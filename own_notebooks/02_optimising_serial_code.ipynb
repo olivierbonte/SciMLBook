{
 "cells": [
  {
   "cell_type": "markdown",
   "metadata": {},
   "source": [
    "# 02 Optimising Serial Code\n",
    "\n",
    "\n",
    "\n",
    "\n",
    "## Mental model of a memory\n",
    "\n",
    "### high level view\n",
    "CPU → L1 cache \n",
    "L1 filled from L2, L2 filled from L3, L3 filled from main memory\n",
    "so in a closer cache = faster\n",
    "cache miss = pulling from main memory!\n",
    "\n",
    "### Cache lines and row/column-major\n",
    "goal = minimise cache misses\n",
    "cahce line = next chunck in array"
   ]
  },
  {
   "cell_type": "code",
   "execution_count": null,
   "metadata": {},
   "outputs": [],
   "source": [
    "using Pkg\n",
    "Pkg.activate(\"../\") #activate the packes in the .toml files!"
   ]
  },
  {
   "cell_type": "markdown",
   "metadata": {},
   "source": [
    "Julia = a column major languag! statck column after column!"
   ]
  },
  {
   "cell_type": "code",
   "execution_count": null,
   "metadata": {},
   "outputs": [],
   "source": [
    "using BenchmarkTools\n",
    "A = rand(100,100)\n",
    "B = rand(100,100)\n",
    "C = rand(100,100)\n",
    "function inner_rows(C,A,B)\n",
    "    for i in 1:100, j in 1:100\n",
    "        C[i,j] = A[i,j] + B[i,j]\n",
    "    end\n",
    "end\n",
    "@btime inner_rows(C,A,B)"
   ]
  },
  {
   "cell_type": "markdown",
   "metadata": {},
   "source": [
    "So in this code, you go 1 row at a time (so i = 1, j = 1 -> 100, then i = 2...). So this is slower in Julia as it is column major!"
   ]
  },
  {
   "cell_type": "code",
   "execution_count": null,
   "metadata": {},
   "outputs": [],
   "source": [
    "function inner_rows(C,A,B)\n",
    "    for j in 1:100, i in 1:100\n",
    "        C[i,j] = A[i,j] + B[i,j]\n",
    "    end\n",
    "end\n",
    "@btime inner_rows(C,A,B)"
   ]
  },
  {
   "cell_type": "markdown",
   "metadata": {},
   "source": [
    "So faster, as you go 1 column at a time now!"
   ]
  },
  {
   "cell_type": "code",
   "execution_count": null,
   "metadata": {},
   "outputs": [],
   "source": []
  },
  {
   "cell_type": "markdown",
   "metadata": {},
   "source": [
    "### Lower level view: stack and heap\n",
    "stack: static allocation, size of varaiblaes known at compile time! To Heap if not\n",
    "### Heap allocations and spped\n",
    "heap allocations = coslty!"
   ]
  },
  {
   "cell_type": "code",
   "execution_count": null,
   "metadata": {},
   "outputs": [],
   "source": [
    "function inner_alloc!(C,A,B)\n",
    "    for j in 1:100, i in 1:100\n",
    "      val = [A[i,j] + B[i,j]] #heap allocation\n",
    "      C[i,j] = val[1]\n",
    "    end\n",
    "  end\n",
    "  @btime inner_alloc!(C,A,B)"
   ]
  },
  {
   "cell_type": "code",
   "execution_count": null,
   "metadata": {},
   "outputs": [],
   "source": [
    "function inner_noalloc!(C,A,B)\n",
    "    for j in 1:100, i in 1:100\n",
    "      val = A[i,j] + B[i,j] #static -> stack allocation!\n",
    "      C[i,j] = val[1]\n",
    "    end\n",
    "  end\n",
    "  @btime inner_noalloc!(C,A,B)"
   ]
  },
  {
   "cell_type": "markdown",
   "metadata": {},
   "source": [
    "Float64 is allocated to stack and not heap as the size is known!\n",
    "\n",
    "StaticArrays.jl for statically-sized arrays!!"
   ]
  },
  {
   "cell_type": "code",
   "execution_count": null,
   "metadata": {},
   "outputs": [],
   "source": [
    "using StaticArrays\n",
    "function static_inner_alloc!(C,A,B)\n",
    "  for j in 1:100, i in 1:100\n",
    "    val = @SVector [A[i,j] + B[i,j]]\n",
    "    C[i,j] = val[1]\n",
    "  end\n",
    "end\n",
    "@btime static_inner_alloc!(C,A,B)"
   ]
  },
  {
   "cell_type": "markdown",
   "metadata": {},
   "source": [
    "### Mutation to avoid heap allocations\n",
    "\n",
    "Preallocation of the array (cf. Wetenschappelijk programmeren!)"
   ]
  },
  {
   "cell_type": "code",
   "execution_count": null,
   "metadata": {},
   "outputs": [],
   "source": [
    "function inner_noalloc!(C,A,B)\n",
    "    for j in 1:100, i in 1:100\n",
    "      val = A[i,j] + B[i,j]\n",
    "      C[i,j] = val[1]\n",
    "    end\n",
    "  end\n",
    "  @btime inner_noalloc!(C,A,B)"
   ]
  },
  {
   "cell_type": "code",
   "execution_count": null,
   "metadata": {},
   "outputs": [],
   "source": [
    "function inner_alloc(A,B)\n",
    "    C = similar(A)\n",
    "    for j in 1:100, i in 1:100\n",
    "      val = A[i,j] + B[i,j]\n",
    "      C[i,j] = val[1]\n",
    "    end\n",
    "  end\n",
    "  @btime inner_alloc(A,B)"
   ]
  },
  {
   "cell_type": "markdown",
   "metadata": {},
   "source": [
    "### Julia's broadcasting mechanism\n",
    "\n",
    "Array vectorisation = key!  Use `.` on an operator!"
   ]
  },
  {
   "cell_type": "code",
   "execution_count": null,
   "metadata": {},
   "outputs": [],
   "source": [
    "A .+ B .+ C"
   ]
  },
  {
   "cell_type": "code",
   "execution_count": null,
   "metadata": {},
   "outputs": [],
   "source": [
    "map((a,b,c)->a+b+c,A,B,C)"
   ]
  },
  {
   "cell_type": "markdown",
   "metadata": {},
   "source": [
    "Fusing the operation = faster"
   ]
  },
  {
   "cell_type": "code",
   "execution_count": null,
   "metadata": {},
   "outputs": [],
   "source": [
    "function unfused(A,B,C)\n",
    "    tmp = A .+ B\n",
    "    tmp .+ C\n",
    "  end\n",
    "  @btime unfused(A,B,C);"
   ]
  },
  {
   "cell_type": "code",
   "execution_count": null,
   "metadata": {},
   "outputs": [],
   "source": [
    "fused(A,B,C) = A .+ B .+ C\n",
    "@btime fused(A,B,C);"
   ]
  },
  {
   "cell_type": "markdown",
   "metadata": {},
   "source": [
    "`.=` is also a vectorised allocation"
   ]
  },
  {
   "cell_type": "code",
   "execution_count": null,
   "metadata": {},
   "outputs": [],
   "source": [
    "D = similar(A)\n",
    "fused!(D,A,B,C) = (D .= A .+ B .+ C)\n",
    "@btime fused!(D,A,B,C);"
   ]
  },
  {
   "cell_type": "code",
   "execution_count": null,
   "metadata": {},
   "outputs": [],
   "source": [
    "D = similar(A)\n",
    "non_fused!(D,A,B,C) = (D = A .+ B .+ C)\n",
    "@btime non_fused!(D,A,B,C);"
   ]
  },
  {
   "cell_type": "markdown",
   "metadata": {},
   "source": [
    "### note on vectorization and speed\n",
    "\n",
    "In MATLAB/Python/R, there is a large overhead per operation. This is avoided by vectorising your code as this calls a single C function instead!\n",
    "In Julia however, looping is NOT slow!! See above: generally the same speed as vectorisation!\n",
    "\n",
    "### heap allocations from slicing\n",
    "\n",
    "slice in Julia prodcues a COPY (so a new entity) instead of a view (which is in a way an access to the original object)"
   ]
  },
  {
   "cell_type": "code",
   "execution_count": null,
   "metadata": {},
   "outputs": [],
   "source": [
    "A[50,50]"
   ]
  },
  {
   "cell_type": "code",
   "execution_count": null,
   "metadata": {},
   "outputs": [],
   "source": [
    "@show A[1]\n",
    "E = @view A[1:5,1:5] #view instead of default copy!\n",
    "E[1] = 2.0\n",
    "@show A[1] #so the value has changed now as E is not a copy of A!"
   ]
  },
  {
   "cell_type": "markdown",
   "metadata": {},
   "source": [
    "### asymptotic cost of heap allocations\n",
    "O(n) for arrays BUT with large constant factor"
   ]
  },
  {
   "cell_type": "code",
   "execution_count": null,
   "metadata": {},
   "outputs": [],
   "source": [
    "using LinearAlgebra, BenchmarkTools\n",
    "function alloc_timer(n)\n",
    "    A = rand(n,n)\n",
    "    B = rand(n,n)\n",
    "    C = rand(n,n)\n",
    "    t1 = @belapsed $A .* $B\n",
    "    t2 = @belapsed ($C .= $A .* $B) #does have heap allocation I think\n",
    "    t1,t2\n",
    "end\n",
    "ns = 2 .^ (2:11)\n",
    "res = [alloc_timer(n) for n in ns]\n",
    "alloc   = [x[1] for x in res]\n",
    "noalloc = [x[2] for x in res]\n",
    "\n",
    "using Plots\n",
    "plot(ns,alloc,label=\"=\",xscale=:log10,yscale=:log10,legend=:bottomright,\n",
    "     title=\"Micro-optimizations matter for BLAS1\")\n",
    "plot!(ns,noalloc,label=\".=\")"
   ]
  },
  {
   "cell_type": "markdown",
   "metadata": {},
   "source": [
    "### summmary\n",
    "copy-paste\n",
    "- Avoid cache misses by reusing values\n",
    "- Iterate along columns\n",
    "- Avoid heap allocations in inner loops\n",
    "- Heap allocations occur when the size of things is not proven at compile-time\n",
    "- Use fused broadcasts (with mutated outputs) to avoid heap allocations\n",
    "- Array vectorization confers no special benefit in Julia because Julia loops are as fast as C or Fortran\n",
    "- Use views instead of slices when applicable\n",
    "- Avoiding heap allocations is most necessary for O(n) algorithms or algorithms with small arrays\n",
    "- Use StaticArrays.jl to avoid heap allocations of small arrays in inner loops\n",
    "\n",
    "## Julia's type inference and the compiler\n",
    "Julia = JIT compiled. Wiki on jit compilation: *In computing, just-in-time (JIT) compilation (also dynamic translation or run-time compilations)[1] is compilation (of computer code) during execution of a program (at run time) rather than before execution*\n",
    "\n",
    "2 reasons Julia is fast (covered below)\n",
    "\n",
    "### 1: Type inference\n",
    "At the core, everything has a type! \n",
    "- C: programmer has to declare the type\n",
    "- Python: check the type at runtime -> overhead! variables are NOT stack-allocated, as there is no guarantee on the size!\n",
    "- Julia: check the types BEFORE runtime! \n",
    "\n",
    "LLVM = Julia compiler https://en.wikipedia.org/wiki/LLVM\n",
    "\n",
    "### 2: Type specializations in functions\n",
    "no types provided -> generic function! but this is NOT a single function, as the function depends on the type!"
   ]
  },
  {
   "cell_type": "code",
   "execution_count": null,
   "metadata": {},
   "outputs": [],
   "source": [
    "f(x,y) = x + y"
   ]
  },
  {
   "cell_type": "code",
   "execution_count": null,
   "metadata": {},
   "outputs": [],
   "source": [
    "using InteractiveUtils\n",
    "@code_llvm f(2,5)"
   ]
  },
  {
   "cell_type": "markdown",
   "metadata": {},
   "source": [
    "So here ints are used!"
   ]
  },
  {
   "cell_type": "code",
   "execution_count": null,
   "metadata": {},
   "outputs": [],
   "source": [
    "@code_llvm f(2.0,5.0)"
   ]
  },
  {
   "cell_type": "markdown",
   "metadata": {},
   "source": [
    "While here doubles are used! This is possible because many methods are defined for the plus operator (404 as of now)"
   ]
  },
  {
   "cell_type": "code",
   "execution_count": null,
   "metadata": {},
   "outputs": [],
   "source": [
    "mehtods_list = methods(+)\n",
    "print(length(mehtods_list))\n"
   ]
  },
  {
   "cell_type": "code",
   "execution_count": null,
   "metadata": {},
   "outputs": [],
   "source": [
    "@code_warntype f(2,5)"
   ]
  },
  {
   "cell_type": "code",
   "execution_count": null,
   "metadata": {},
   "outputs": [],
   "source": [
    "@code_warntype f(2.0,5)"
   ]
  },
  {
   "cell_type": "markdown",
   "metadata": {},
   "source": [
    "Now int is promoted to float64!"
   ]
  },
  {
   "cell_type": "markdown",
   "metadata": {},
   "source": [
    "### type stability\n",
    "Respected in above cases. It means that the outcome is known at compile time! so int + float -> ALWAYS float!"
   ]
  },
  {
   "cell_type": "code",
   "execution_count": null,
   "metadata": {},
   "outputs": [],
   "source": [
    "function h(x,y)\n",
    "    out = x + y\n",
    "    rand() < 0.5 ? out : Float64(out)\n",
    "  end"
   ]
  },
  {
   "cell_type": "markdown",
   "metadata": {},
   "source": [
    "NOT type stable, as the output depends on this random value!"
   ]
  },
  {
   "cell_type": "code",
   "execution_count": null,
   "metadata": {},
   "outputs": [],
   "source": [
    "@code_warntype h(2,5)"
   ]
  },
  {
   "cell_type": "markdown",
   "metadata": {},
   "source": [
    "### multiple dispatch\n",
    "you can tell a function how to act differently DEPENDING on the input type :)"
   ]
  },
  {
   "cell_type": "code",
   "execution_count": null,
   "metadata": {},
   "outputs": [],
   "source": [
    "ff(x::Int,y::Int) = 2x + y\n",
    "ff(x::Float64,y::Float64) = x/y\n",
    "@show ff(2,5)\n",
    "@show ff(2.0,5.0)"
   ]
  },
  {
   "cell_type": "code",
   "execution_count": null,
   "metadata": {},
   "outputs": [],
   "source": [
    "methods(ff)"
   ]
  },
  {
   "attachments": {
    "image.png": {
     "image/png": "[encoded data removed]"
    }
   },
   "cell_type": "markdown",
   "metadata": {},
   "source": [
    "Abstract types in julia:\n",
    "\n",
    "![image.png](attachment:image.png)\n",
    "\n",
    "If no method exists for your input types -> MethodError!.\n",
    "\n",
    "KEY: if types are known, the code is optimised!\n",
    "\n",
    "### any fallabcks\n",
    "Any = the maximal supertype! it falls back to all possible input values!\n",
    "\n",
    "### ambiguities\n",
    "\n",
    "avoid this! means that multiple methods are 'most strict' for your inputs\n",
    "\n",
    "### untyped containers\n",
    "\n",
    "type inference is RUINED with untyped containers"
   ]
  },
  {
   "cell_type": "code",
   "execution_count": null,
   "metadata": {},
   "outputs": [],
   "source": [
    "a = [1.0, 2.0,3.0]"
   ]
  },
  {
   "cell_type": "markdown",
   "metadata": {},
   "source": [
    "this is a typed container!"
   ]
  },
  {
   "cell_type": "code",
   "execution_count": null,
   "metadata": {},
   "outputs": [],
   "source": [
    "b = [\"1.0\",2,2.0]"
   ]
  },
  {
   "cell_type": "markdown",
   "metadata": {},
   "source": [
    "ANy type :( )"
   ]
  },
  {
   "cell_type": "code",
   "execution_count": null,
   "metadata": {},
   "outputs": [],
   "source": [
    "function bad_container(a)\n",
    "    a[2]\n",
    "  end\n",
    "@code_warntype bad_container(b)"
   ]
  },
  {
   "cell_type": "markdown",
   "metadata": {},
   "source": [
    "So clear that the type inference is broken know, no idea on output of the type...\n",
    "### Type definitions\n",
    "#### Value types and isbits\n",
    "\n",
    "if types can be fully inferred = value type! check with `isbits`"
   ]
  },
  {
   "cell_type": "code",
   "execution_count": null,
   "metadata": {},
   "outputs": [],
   "source": [
    "isbits(1.0)"
   ]
  },
  {
   "cell_type": "code",
   "execution_count": null,
   "metadata": {},
   "outputs": [],
   "source": [
    "isbits(1)"
   ]
  },
  {
   "cell_type": "code",
   "execution_count": null,
   "metadata": {},
   "outputs": [],
   "source": [
    "struct MyComplex\n",
    "    real::Float64\n",
    "    imag::Float64\n",
    "  end\n",
    "  isbits(MyComplex(1.0,1.0))"
   ]
  },
  {
   "cell_type": "code",
   "execution_count": null,
   "metadata": {},
   "outputs": [],
   "source": [
    "struct MyParameterizedComplex{T}\n",
    "    real::T\n",
    "    imag::T\n",
    "end\n",
    "isbits(MyParameterizedComplex(1.0,1.0))"
   ]
  },
  {
   "cell_type": "markdown",
   "metadata": {},
   "source": [
    "In the way above, you don't have to specify the type!"
   ]
  },
  {
   "cell_type": "code",
   "execution_count": null,
   "metadata": {},
   "outputs": [],
   "source": [
    "typeof(1.0f0)"
   ]
  },
  {
   "cell_type": "code",
   "execution_count": null,
   "metadata": {},
   "outputs": [],
   "source": [
    "struct MySlowComplex\n",
    "    real\n",
    "    imag\n",
    "end\n",
    "isbits(MySlowComplex(1.0,1.0))"
   ]
  },
  {
   "cell_type": "code",
   "execution_count": null,
   "metadata": {},
   "outputs": [],
   "source": [
    "struct MySlowComplex2\n",
    "    real::AbstractFloat\n",
    "    imag::AbstractFloat\n",
    "end\n",
    "isbits(MySlowComplex2(1.0,1.0))"
   ]
  },
  {
   "cell_type": "markdown",
   "metadata": {},
   "source": [
    "Note: the number types, even ones such as Int, Float64, and Complex, are all themselves implemented in pure Julia!\n",
    "Note2: isbits compiles down to bit operations from pure Julia, which means that these types can directly compile to GPU kernels through CUDAnative without modification.\n",
    "\n",
    "### Function barriers\n"
   ]
  },
  {
   "cell_type": "code",
   "execution_count": null,
   "metadata": {},
   "outputs": [],
   "source": [
    "x = Number[1.0,3] #slow container type!\n",
    "function r(x)\n",
    "    a = 4\n",
    "    b = 2\n",
    "    for i in 1:100\n",
    "      c = f(x[1],a)\n",
    "      d = f(b,c)\n",
    "      a = f(d,x[2])\n",
    "    end\n",
    "    a\n",
    "  end\n",
    "  @btime r(x)"
   ]
  },
  {
   "cell_type": "code",
   "execution_count": null,
   "metadata": {},
   "outputs": [],
   "source": [
    "x_fast = [1.0,3.0]\n",
    "@btime r(x_fast)"
   ]
  },
  {
   "cell_type": "markdown",
   "metadata": {},
   "source": [
    "Splitting up the bad container will be faster!"
   ]
  },
  {
   "cell_type": "code",
   "execution_count": null,
   "metadata": {},
   "outputs": [],
   "source": [
    "function _s(x1,x2)\n",
    "    a = 4\n",
    "    b = 2\n",
    "    for i in 1:100\n",
    "      c = f(x1,a)\n",
    "      d = f(b,c)\n",
    "      a = f(d,x2)\n",
    "    end\n",
    "    a\n",
    "end\n",
    "s(x) = _s(x[1],x[2])\n",
    "@btime s(x)"
   ]
  },
  {
   "cell_type": "code",
   "execution_count": null,
   "metadata": {},
   "outputs": [],
   "source": [
    "isbits(x)#!! "
   ]
  },
  {
   "cell_type": "code",
   "execution_count": null,
   "metadata": {},
   "outputs": [],
   "source": [
    "@code_warntype r(x)"
   ]
  },
  {
   "cell_type": "markdown",
   "metadata": {},
   "source": [
    "### specialisation at compile time"
   ]
  },
  {
   "cell_type": "code",
   "execution_count": null,
   "metadata": {},
   "outputs": [],
   "source": [
    "function fff(x)\n",
    "    if x isa Int\n",
    "      y = 2\n",
    "    else\n",
    "      y = 4.0\n",
    "    end\n",
    "    x + y\n",
    "  end"
   ]
  },
  {
   "cell_type": "code",
   "execution_count": null,
   "metadata": {},
   "outputs": [],
   "source": [
    "@code_llvm fff(1)"
   ]
  },
  {
   "cell_type": "markdown",
   "metadata": {},
   "source": [
    "So optimised at compile time as it KNOWS the input is an INT!\n",
    "\n",
    "### Global scope and optimisations\n",
    "\n",
    "so e.g. directly in REPL. Here, types cannot be inferred, as you can change the type at any time (by typing a new command)\n",
    "\n",
    "## Overheads of individual operators\n",
    "\n",
    "Each operation has a cost!\n",
    "\n",
    "### Bounds checking\n",
    "= what gives error if you're out of bounds! Removing this maks code faster\n",
    "\n",
    "### SIMD\n",
    "single input multiple data. E.g. adding 4 floats in 1 clock cycle!\n",
    "\n",
    "### FMA\n",
    "fused multiply-add so .e.g x*y+z is fused\n",
    "\n",
    "### Inlining\n",
    "if function call is deemed cheap enough, than combined into single call!"
   ]
  },
  {
   "cell_type": "markdown",
   "metadata": {},
   "source": []
  }
 ],
 "metadata": {
  "kernelspec": {
   "display_name": "Julia 1.8.5",
   "language": "julia",
   "name": "julia-1.8"
  },
  "language_info": {
   "file_extension": ".jl",
   "mimetype": "application/julia",
   "name": "julia",
   "version": "1.8.5"
  }
 },
 "nbformat": 4,
 "nbformat_minor": 2
}
