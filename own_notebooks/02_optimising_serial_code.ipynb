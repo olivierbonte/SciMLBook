{
 "cells": [
  {
   "cell_type": "markdown",
   "metadata": {},
   "source": [
    "# 02 Optimising Serial Code\n",
    "\n",
    "\n",
    "\n",
    "\n",
    "## Mental model of a memory\n",
    "\n",
    "### high level view\n",
    "CPU → L1 cache \n",
    "L1 filled from L2, L2 filled from L3, L3 filled from main memory\n",
    "so in a closer cache = faster\n",
    "cache miss = pulling from main memory!\n",
    "\n",
    "### Cache lines and row/column-major\n",
    "goal = minimise cache misses\n",
    "cahce line = next chunck in array"
   ]
  },
  {
   "cell_type": "code",
   "execution_count": 118,
   "metadata": {},
   "outputs": [
    {
     "name": "stderr",
     "output_type": "stream",
     "text": [
      "\u001b[32m\u001b[1m  Activating\u001b[22m\u001b[39m project at `c:\\Users\\olivi\\Documents\\SciMLBook`\n"
     ]
    }
   ],
   "source": [
    "using Pkg\n",
    "Pkg.activate(\"../\") #activate the packes in the .toml files!"
   ]
  },
  {
   "cell_type": "markdown",
   "metadata": {},
   "source": [
    "Julia = a column major languag! statck column after column!"
   ]
  },
  {
   "cell_type": "code",
   "execution_count": 119,
   "metadata": {},
   "outputs": [
    {
     "name": "stdout",
     "output_type": "stream",
     "text": [
      "  8.233 μs (0 allocations: 0 bytes)\n"
     ]
    }
   ],
   "source": [
    "using BenchmarkTools\n",
    "A = rand(100,100)\n",
    "B = rand(100,100)\n",
    "C = rand(100,100)\n",
    "function inner_rows(C,A,B)\n",
    "    for i in 1:100, j in 1:100\n",
    "        C[i,j] = A[i,j] + B[i,j]\n",
    "    end\n",
    "end\n",
    "@btime inner_rows(C,A,B)"
   ]
  },
  {
   "cell_type": "markdown",
   "metadata": {},
   "source": [
    "So in this code, you go 1 row at a time (so i = 1, j = 1 -> 100, then i = 2...). So this is slower in Julia as it is column major!"
   ]
  },
  {
   "cell_type": "code",
   "execution_count": 120,
   "metadata": {},
   "outputs": [
    {
     "name": "stdout",
     "output_type": "stream",
     "text": [
      "  4.357 μs (0 allocations: 0 bytes)\n"
     ]
    }
   ],
   "source": [
    "function inner_rows(C,A,B)\n",
    "    for j in 1:100, i in 1:100\n",
    "        C[i,j] = A[i,j] + B[i,j]\n",
    "    end\n",
    "end\n",
    "@btime inner_rows(C,A,B)"
   ]
  },
  {
   "cell_type": "markdown",
   "metadata": {},
   "source": [
    "So faster, as you go 1 column at a time now!"
   ]
  },
  {
   "cell_type": "code",
   "execution_count": 121,
   "metadata": {},
   "outputs": [],
   "source": []
  },
  {
   "cell_type": "markdown",
   "metadata": {},
   "source": [
    "### Lower level view: stack and heap\n",
    "stack: static allocation, size of varaiblaes known at compile time! To Heap if not\n",
    "### Heap allocations and spped\n",
    "heap allocations = coslty!"
   ]
  },
  {
   "cell_type": "code",
   "execution_count": 122,
   "metadata": {},
   "outputs": [
    {
     "name": "stdout",
     "output_type": "stream",
     "text": [
      "  175.700 μs (10000 allocations: 625.00 KiB)\n"
     ]
    }
   ],
   "source": [
    "function inner_alloc!(C,A,B)\n",
    "    for j in 1:100, i in 1:100\n",
    "      val = [A[i,j] + B[i,j]] #heap allocation\n",
    "      C[i,j] = val[1]\n",
    "    end\n",
    "  end\n",
    "  @btime inner_alloc!(C,A,B)"
   ]
  },
  {
   "cell_type": "code",
   "execution_count": 123,
   "metadata": {},
   "outputs": [
    {
     "name": "stdout",
     "output_type": "stream",
     "text": [
      "  4.114 μs (0 allocations: 0 bytes)\n"
     ]
    }
   ],
   "source": [
    "function inner_noalloc!(C,A,B)\n",
    "    for j in 1:100, i in 1:100\n",
    "      val = A[i,j] + B[i,j] #static -> stack allocation!\n",
    "      C[i,j] = val[1]\n",
    "    end\n",
    "  end\n",
    "  @btime inner_noalloc!(C,A,B)"
   ]
  },
  {
   "cell_type": "markdown",
   "metadata": {},
   "source": [
    "Float64 is allocated to stack and not heap as the size is known!\n",
    "\n",
    "StaticArrays.jl for statically-sized arrays!!"
   ]
  },
  {
   "cell_type": "code",
   "execution_count": 124,
   "metadata": {},
   "outputs": [
    {
     "name": "stdout",
     "output_type": "stream",
     "text": [
      "  4.500 μs (0 allocations: 0 bytes)\n"
     ]
    }
   ],
   "source": [
    "using StaticArrays\n",
    "function static_inner_alloc!(C,A,B)\n",
    "  for j in 1:100, i in 1:100\n",
    "    val = @SVector [A[i,j] + B[i,j]]\n",
    "    C[i,j] = val[1]\n",
    "  end\n",
    "end\n",
    "@btime static_inner_alloc!(C,A,B)"
   ]
  },
  {
   "cell_type": "markdown",
   "metadata": {},
   "source": [
    "### Mutation to avoid heap allocations\n",
    "\n",
    "Preallocation of the array (cf. Wetenschappelijk programmeren!)"
   ]
  },
  {
   "cell_type": "code",
   "execution_count": 125,
   "metadata": {},
   "outputs": [
    {
     "name": "stdout",
     "output_type": "stream",
     "text": [
      "  4.343 μs (0 allocations: 0 bytes)\n"
     ]
    }
   ],
   "source": [
    "function inner_noalloc!(C,A,B)\n",
    "    for j in 1:100, i in 1:100\n",
    "      val = A[i,j] + B[i,j]\n",
    "      C[i,j] = val[1]\n",
    "    end\n",
    "  end\n",
    "  @btime inner_noalloc!(C,A,B)"
   ]
  },
  {
   "cell_type": "code",
   "execution_count": 126,
   "metadata": {},
   "outputs": [
    {
     "name": "stdout",
     "output_type": "stream",
     "text": [
      "  8.400 μs (2 allocations: 78.17 KiB)\n"
     ]
    }
   ],
   "source": [
    "function inner_alloc(A,B)\n",
    "    C = similar(A)\n",
    "    for j in 1:100, i in 1:100\n",
    "      val = A[i,j] + B[i,j]\n",
    "      C[i,j] = val[1]\n",
    "    end\n",
    "  end\n",
    "  @btime inner_alloc(A,B)"
   ]
  },
  {
   "cell_type": "markdown",
   "metadata": {},
   "source": [
    "### Julia's broadcasting mechanism\n",
    "\n",
    "Array vectorisation = key!  Use `.` on an operator!"
   ]
  },
  {
   "cell_type": "code",
   "execution_count": 127,
   "metadata": {},
   "outputs": [
    {
     "data": {
      "text/plain": [
       "100×100 Matrix{Float64}:\n",
       " 1.95759   1.24287   1.85569  1.57616   …  2.96207   1.67526   2.31989\n",
       " 2.10597   1.94274   2.98321  3.59025      0.868032  2.3984    2.94639\n",
       " 1.40384   0.907911  2.00789  1.57005      2.15884   1.72721   0.292394\n",
       " 3.07759   2.14276   1.6457   2.29803      2.54037   0.699596  3.30135\n",
       " 1.3382    0.879605  3.44189  3.08378      1.69884   1.92612   1.66114\n",
       " 2.02232   1.63395   1.15896  2.87765   …  0.949089  1.83023   1.28534\n",
       " 3.59892   2.0366    2.53804  0.926695     2.39815   2.19877   0.719024\n",
       " 1.41869   2.41391   3.04103  1.69399      2.41403   2.1561    2.05501\n",
       " 2.66341   3.21247   3.10735  0.535433     2.75337   2.04125   2.16414\n",
       " 2.38798   1.02763   1.37605  2.36593      1.18685   0.518268  3.04939\n",
       " ⋮                                      ⋱                      \n",
       " 1.26755   0.693324  1.20631  2.36529      1.06393   2.11021   1.74911\n",
       " 2.34553   3.08031   1.40403  1.31149      1.46323   3.88854   1.76508\n",
       " 2.42129   1.75169   3.77359  2.17406      1.08048   1.69716   1.7597\n",
       " 0.734381  1.30156   2.86948  2.58324      1.99521   2.00416   2.66507\n",
       " 2.04809   1.69635   2.50314  1.6369    …  1.68814   3.30315   1.41829\n",
       " 3.33367   2.77984   2.35148  1.02042      2.65668   2.86607   1.32712\n",
       " 0.449109  3.28198   3.15939  0.583655     1.47173   2.59677   0.478001\n",
       " 3.09571   2.2281    2.49206  3.83607      1.23957   1.00981   1.6774\n",
       " 1.66467   0.546817  2.04619  1.51375      2.4272    2.48568   2.17633"
      ]
     },
     "metadata": {},
     "output_type": "display_data"
    }
   ],
   "source": [
    "A .+ B .+ C"
   ]
  },
  {
   "cell_type": "code",
   "execution_count": 128,
   "metadata": {},
   "outputs": [
    {
     "data": {
      "text/plain": [
       "100×100 Matrix{Float64}:\n",
       " 1.95759   1.24287   1.85569  1.57616   …  2.96207   1.67526   2.31989\n",
       " 2.10597   1.94274   2.98321  3.59025      0.868032  2.3984    2.94639\n",
       " 1.40384   0.907911  2.00789  1.57005      2.15884   1.72721   0.292394\n",
       " 3.07759   2.14276   1.6457   2.29803      2.54037   0.699596  3.30135\n",
       " 1.3382    0.879605  3.44189  3.08378      1.69884   1.92612   1.66114\n",
       " 2.02232   1.63395   1.15896  2.87765   …  0.949089  1.83023   1.28534\n",
       " 3.59892   2.0366    2.53804  0.926695     2.39815   2.19877   0.719024\n",
       " 1.41869   2.41391   3.04103  1.69399      2.41403   2.1561    2.05501\n",
       " 2.66341   3.21247   3.10735  0.535433     2.75337   2.04125   2.16414\n",
       " 2.38798   1.02763   1.37605  2.36593      1.18685   0.518268  3.04939\n",
       " ⋮                                      ⋱                      \n",
       " 1.26755   0.693324  1.20631  2.36529      1.06393   2.11021   1.74911\n",
       " 2.34553   3.08031   1.40403  1.31149      1.46323   3.88854   1.76508\n",
       " 2.42129   1.75169   3.77359  2.17406      1.08048   1.69716   1.7597\n",
       " 0.734381  1.30156   2.86948  2.58324      1.99521   2.00416   2.66507\n",
       " 2.04809   1.69635   2.50314  1.6369    …  1.68814   3.30315   1.41829\n",
       " 3.33367   2.77984   2.35148  1.02042      2.65668   2.86607   1.32712\n",
       " 0.449109  3.28198   3.15939  0.583655     1.47173   2.59677   0.478001\n",
       " 3.09571   2.2281    2.49206  3.83607      1.23957   1.00981   1.6774\n",
       " 1.66467   0.546817  2.04619  1.51375      2.4272    2.48568   2.17633"
      ]
     },
     "metadata": {},
     "output_type": "display_data"
    }
   ],
   "source": [
    "map((a,b,c)->a+b+c,A,B,C)"
   ]
  },
  {
   "cell_type": "markdown",
   "metadata": {},
   "source": [
    "Fusing the operation = faster"
   ]
  },
  {
   "cell_type": "code",
   "execution_count": 129,
   "metadata": {},
   "outputs": [
    {
     "name": "stdout",
     "output_type": "stream",
     "text": [
      "  12.500 μs (4 allocations: 156.34 KiB)\n"
     ]
    }
   ],
   "source": [
    "function unfused(A,B,C)\n",
    "    tmp = A .+ B\n",
    "    tmp .+ C\n",
    "  end\n",
    "  @btime unfused(A,B,C);"
   ]
  },
  {
   "cell_type": "code",
   "execution_count": 130,
   "metadata": {},
   "outputs": [
    {
     "name": "stdout",
     "output_type": "stream",
     "text": [
      "  7.525 μs (2 allocations: 78.17 KiB)\n"
     ]
    }
   ],
   "source": [
    "fused(A,B,C) = A .+ B .+ C\n",
    "@btime fused(A,B,C);"
   ]
  },
  {
   "cell_type": "markdown",
   "metadata": {},
   "source": [
    "`.=` is also a vectorised allocation"
   ]
  },
  {
   "cell_type": "code",
   "execution_count": 131,
   "metadata": {},
   "outputs": [
    {
     "name": "stdout",
     "output_type": "stream",
     "text": [
      "  2.489 μs (0 allocations: 0 bytes)\n"
     ]
    }
   ],
   "source": [
    "D = similar(A)\n",
    "fused!(D,A,B,C) = (D .= A .+ B .+ C)\n",
    "@btime fused!(D,A,B,C);"
   ]
  },
  {
   "cell_type": "code",
   "execution_count": 132,
   "metadata": {},
   "outputs": [
    {
     "name": "stdout",
     "output_type": "stream",
     "text": [
      "  6.700 μs (2 allocations: 78.17 KiB)\n"
     ]
    }
   ],
   "source": [
    "D = similar(A)\n",
    "non_fused!(D,A,B,C) = (D = A .+ B .+ C)\n",
    "@btime non_fused!(D,A,B,C);"
   ]
  },
  {
   "cell_type": "markdown",
   "metadata": {},
   "source": [
    "### note on vectorization and speed\n",
    "\n",
    "In MATLAB/Python/R, there is a large overhead per operation. This is avoided by vectorising your code as this calls a single C function instead!\n",
    "In Julia however, looping is NOT slow!! See above: generally the same speed as vectorisation!\n",
    "\n",
    "### heap allocations from slicing\n",
    "\n",
    "slice in Julia prodcues a COPY (so a new entity) instead of a view (which is in a way an access to the original object)"
   ]
  },
  {
   "cell_type": "code",
   "execution_count": 133,
   "metadata": {},
   "outputs": [
    {
     "data": {
      "text/plain": [
       "0.30376035319482597"
      ]
     },
     "metadata": {},
     "output_type": "display_data"
    }
   ],
   "source": [
    "A[50,50]"
   ]
  },
  {
   "cell_type": "code",
   "execution_count": 134,
   "metadata": {},
   "outputs": [
    {
     "name": "stdout",
     "output_type": "stream",
     "text": [
      "A[1] = 0.6875288658578751\n",
      "A[1] = 2.0\n"
     ]
    },
    {
     "data": {
      "text/plain": [
       "2.0"
      ]
     },
     "metadata": {},
     "output_type": "display_data"
    }
   ],
   "source": [
    "@show A[1]\n",
    "E = @view A[1:5,1:5] #view instead of default copy!\n",
    "E[1] = 2.0\n",
    "@show A[1] #so the value has changed now as E is not a copy of A!"
   ]
  },
  {
   "cell_type": "markdown",
   "metadata": {},
   "source": [
    "### asymptotic cost of heap allocations\n",
    "O(n) for arrays BUT with large constant factor"
   ]
  },
  {
   "cell_type": "code",
   "execution_count": 135,
   "metadata": {},
   "outputs": [
    {
     "data": {
      "image/png": "[encoded data removed]",
      "image/svg+xml": [
       "<?xml version=\"1.0\" encoding=\"utf-8\"?>\n",
       "<svg xmlns=\"http://www.w3.org/2000/svg\" xmlns:xlink=\"http://www.w3.org/1999/xlink\" width=\"600\" height=\"400\" viewBox=\"0 0 2400 1600\">\n",
       "<defs>\n",
       "  <clipPath id=\"clip290\">\n",
       "    <rect x=\"0\" y=\"0\" width=\"2400\" height=\"1600\"/>\n",
       "  </clipPath>\n",
       "</defs>\n",
       "<path clip-path=\"url(#clip290)\" d=\"\n",
       "M0 1600 L2400 1600 L2400 0 L0 0  Z\n",
       "  \" fill=\"#ffffff\" fill-rule=\"evenodd\" fill-opacity=\"1\"/>\n",
       "<defs>\n",
       "  <clipPath id=\"clip291\">\n",
       "    <rect x=\"480\" y=\"0\" width=\"1681\" height=\"1600\"/>\n",
       "  </clipPath>\n",
       "</defs>\n",
       "<path clip-path=\"url(#clip290)\" d=\"\n",
       "M189.233 1474.16 L2352.76 1474.16 L2352.76 123.472 L189.233 123.472  Z\n",
       "  \" fill=\"#ffffff\" fill-rule=\"evenodd\" fill-opacity=\"1\"/>\n",
       "<defs>\n",
       "  <clipPath id=\"clip292\">\n",
       "    <rect x=\"189\" y=\"123\" width=\"2165\" height=\"1352\"/>\n",
       "  </clipPath>\n",
       "</defs>\n",
       "<polyline clip-path=\"url(#clip292)\" style=\"stroke:#000000; stroke-linecap:round; stroke-linejoin:round; stroke-width:2; stroke-opacity:0.1; fill:none\" points=\"\n",
       "  550.257,1474.16 550.257,123.472 \n",
       "  \"/>\n",
       "<polyline clip-path=\"url(#clip292)\" style=\"stroke:#000000; stroke-linecap:round; stroke-linejoin:round; stroke-width:2; stroke-opacity:0.1; fill:none\" points=\"\n",
       "  1303.62,1474.16 1303.62,123.472 \n",
       "  \"/>\n",
       "<polyline clip-path=\"url(#clip292)\" style=\"stroke:#000000; stroke-linecap:round; stroke-linejoin:round; stroke-width:2; stroke-opacity:0.1; fill:none\" points=\"\n",
       "  2056.98,1474.16 2056.98,123.472 \n",
       "  \"/>\n",
       "<polyline clip-path=\"url(#clip290)\" style=\"stroke:#000000; stroke-linecap:round; stroke-linejoin:round; stroke-width:4; stroke-opacity:1; fill:none\" points=\"\n",
       "  189.233,1474.16 2352.76,1474.16 \n",
       "  \"/>\n",
       "<polyline clip-path=\"url(#clip290)\" style=\"stroke:#000000; stroke-linecap:round; stroke-linejoin:round; stroke-width:4; stroke-opacity:1; fill:none\" points=\"\n",
       "  550.257,1474.16 550.257,1455.27 \n",
       "  \"/>\n",
       "<polyline clip-path=\"url(#clip290)\" style=\"stroke:#000000; stroke-linecap:round; stroke-linejoin:round; stroke-width:4; stroke-opacity:1; fill:none\" points=\"\n",
       "  1303.62,1474.16 1303.62,1455.27 \n",
       "  \"/>\n",
       "<polyline clip-path=\"url(#clip290)\" style=\"stroke:#000000; stroke-linecap:round; stroke-linejoin:round; stroke-width:4; stroke-opacity:1; fill:none\" points=\"\n",
       "  2056.98,1474.16 2056.98,1455.27 \n",
       "  \"/>\n",
       "<path clip-path=\"url(#clip290)\" d=\"M516.585 1548.29 L524.224 1548.29 L524.224 1521.92 L515.913 1523.59 L515.913 1519.33 L524.177 1517.66 L528.853 1517.66 L528.853 1548.29 L536.492 1548.29 L536.492 1552.22 L516.585 1552.22 L516.585 1548.29 Z\" fill=\"#000000\" fill-rule=\"evenodd\" fill-opacity=\"1\" /><path clip-path=\"url(#clip290)\" d=\"M555.936 1520.74 Q552.325 1520.74 550.497 1524.31 Q548.691 1527.85 548.691 1534.98 Q548.691 1542.09 550.497 1545.65 Q552.325 1549.19 555.936 1549.19 Q559.571 1549.19 561.376 1545.65 Q563.205 1542.09 563.205 1534.98 Q563.205 1527.85 561.376 1524.31 Q559.571 1520.74 555.936 1520.74 M555.936 1517.04 Q561.746 1517.04 564.802 1521.65 Q567.881 1526.23 567.881 1534.98 Q567.881 1543.71 564.802 1548.31 Q561.746 1552.9 555.936 1552.9 Q550.126 1552.9 547.047 1548.31 Q543.992 1543.71 543.992 1534.98 Q543.992 1526.23 547.047 1521.65 Q550.126 1517.04 555.936 1517.04 Z\" fill=\"#000000\" fill-rule=\"evenodd\" fill-opacity=\"1\" /><path clip-path=\"url(#clip290)\" d=\"M568.426 1521.62 L574.633 1521.62 L574.633 1500.19 L567.881 1501.55 L567.881 1498.09 L574.595 1496.73 L578.394 1496.73 L578.394 1521.62 L584.601 1521.62 L584.601 1524.81 L568.426 1524.81 L568.426 1521.62 Z\" fill=\"#000000\" fill-rule=\"evenodd\" fill-opacity=\"1\" /><path clip-path=\"url(#clip290)\" d=\"M1269.39 1548.29 L1277.03 1548.29 L1277.03 1521.92 L1268.72 1523.59 L1268.72 1519.33 L1276.98 1517.66 L1281.66 1517.66 L1281.66 1548.29 L1289.3 1548.29 L1289.3 1552.22 L1269.39 1552.22 L1269.39 1548.29 Z\" fill=\"#000000\" fill-rule=\"evenodd\" fill-opacity=\"1\" /><path clip-path=\"url(#clip290)\" d=\"M1308.74 1520.74 Q1305.13 1520.74 1303.3 1524.31 Q1301.5 1527.85 1301.5 1534.98 Q1301.5 1542.09 1303.3 1545.65 Q1305.13 1549.19 1308.74 1549.19 Q1312.38 1549.19 1314.18 1545.65 Q1316.01 1542.09 1316.01 1534.98 Q1316.01 1527.85 1314.18 1524.31 Q1312.38 1520.74 1308.74 1520.74 M1308.74 1517.04 Q1314.55 1517.04 1317.61 1521.65 Q1320.69 1526.23 1320.69 1534.98 Q1320.69 1543.71 1317.61 1548.31 Q1314.55 1552.9 1308.74 1552.9 Q1302.93 1552.9 1299.85 1548.31 Q1296.8 1543.71 1296.8 1534.98 Q1296.8 1526.23 1299.85 1521.65 Q1302.93 1517.04 1308.74 1517.04 Z\" fill=\"#000000\" fill-rule=\"evenodd\" fill-opacity=\"1\" /><path clip-path=\"url(#clip290)\" d=\"M1325.26 1521.62 L1338.52 1521.62 L1338.52 1524.81 L1320.69 1524.81 L1320.69 1521.62 Q1322.85 1519.38 1326.57 1515.62 Q1330.32 1511.84 1331.28 1510.75 Q1333.1 1508.7 1333.82 1507.29 Q1334.55 1505.86 1334.55 1504.48 Q1334.55 1502.24 1332.97 1500.83 Q1331.41 1499.42 1328.89 1499.42 Q1327.1 1499.42 1325.11 1500.04 Q1323.13 1500.67 1320.88 1501.93 L1320.88 1498.09 Q1323.17 1497.17 1325.16 1496.7 Q1327.16 1496.23 1328.81 1496.23 Q1333.18 1496.23 1335.77 1498.41 Q1338.37 1500.59 1338.37 1504.24 Q1338.37 1505.97 1337.71 1507.53 Q1337.07 1509.07 1335.36 1511.18 Q1334.89 1511.72 1332.37 1514.34 Q1329.85 1516.93 1325.26 1521.62 Z\" fill=\"#000000\" fill-rule=\"evenodd\" fill-opacity=\"1\" /><path clip-path=\"url(#clip290)\" d=\"M2022.42 1548.29 L2030.06 1548.29 L2030.06 1521.92 L2021.75 1523.59 L2021.75 1519.33 L2030.02 1517.66 L2034.69 1517.66 L2034.69 1548.29 L2042.33 1548.29 L2042.33 1552.22 L2022.42 1552.22 L2022.42 1548.29 Z\" fill=\"#000000\" fill-rule=\"evenodd\" fill-opacity=\"1\" /><path clip-path=\"url(#clip290)\" d=\"M2061.78 1520.74 Q2058.16 1520.74 2056.34 1524.31 Q2054.53 1527.85 2054.53 1534.98 Q2054.53 1542.09 2056.34 1545.65 Q2058.16 1549.19 2061.78 1549.19 Q2065.41 1549.19 2067.22 1545.65 Q2069.04 1542.09 2069.04 1534.98 Q2069.04 1527.85 2067.22 1524.31 Q2065.41 1520.74 2061.78 1520.74 M2061.78 1517.04 Q2067.59 1517.04 2070.64 1521.65 Q2073.72 1526.23 2073.72 1534.98 Q2073.72 1543.71 2070.64 1548.31 Q2067.59 1552.9 2061.78 1552.9 Q2055.97 1552.9 2052.89 1548.31 Q2049.83 1543.71 2049.83 1534.98 Q2049.83 1526.23 2052.89 1521.65 Q2055.97 1517.04 2061.78 1517.04 Z\" fill=\"#000000\" fill-rule=\"evenodd\" fill-opacity=\"1\" /><path clip-path=\"url(#clip290)\" d=\"M2086.41 1509.67 Q2089.14 1510.26 2090.67 1512.1 Q2092.21 1513.94 2092.21 1516.65 Q2092.21 1520.81 2089.35 1523.08 Q2086.49 1525.36 2081.22 1525.36 Q2079.46 1525.36 2077.58 1525 Q2075.71 1524.66 2073.72 1523.97 L2073.72 1520.3 Q2075.3 1521.22 2077.18 1521.69 Q2079.06 1522.16 2081.11 1522.16 Q2084.68 1522.16 2086.55 1520.75 Q2088.43 1519.34 2088.43 1516.65 Q2088.43 1514.17 2086.68 1512.78 Q2084.95 1511.37 2081.84 1511.37 L2078.57 1511.37 L2078.57 1508.24 L2082 1508.24 Q2084.8 1508.24 2086.28 1507.13 Q2087.77 1506.01 2087.77 1503.9 Q2087.77 1501.74 2086.23 1500.59 Q2084.7 1499.42 2081.84 1499.42 Q2080.28 1499.42 2078.5 1499.76 Q2076.71 1500.1 2074.57 1500.82 L2074.57 1497.43 Q2076.73 1496.83 2078.61 1496.53 Q2080.51 1496.23 2082.18 1496.23 Q2086.51 1496.23 2089.03 1498.2 Q2091.55 1500.16 2091.55 1503.51 Q2091.55 1505.84 2090.21 1507.45 Q2088.88 1509.05 2086.41 1509.67 Z\" fill=\"#000000\" fill-rule=\"evenodd\" fill-opacity=\"1\" /><polyline clip-path=\"url(#clip292)\" style=\"stroke:#000000; stroke-linecap:round; stroke-linejoin:round; stroke-width:2; stroke-opacity:0.1; fill:none\" points=\"\n",
       "  189.233,1039.96 2352.76,1039.96 \n",
       "  \"/>\n",
       "<polyline clip-path=\"url(#clip292)\" style=\"stroke:#000000; stroke-linecap:round; stroke-linejoin:round; stroke-width:2; stroke-opacity:0.1; fill:none\" points=\"\n",
       "  189.233,357.799 2352.76,357.799 \n",
       "  \"/>\n",
       "<polyline clip-path=\"url(#clip290)\" style=\"stroke:#000000; stroke-linecap:round; stroke-linejoin:round; stroke-width:4; stroke-opacity:1; fill:none\" points=\"\n",
       "  189.233,1474.16 189.233,123.472 \n",
       "  \"/>\n",
       "<polyline clip-path=\"url(#clip290)\" style=\"stroke:#000000; stroke-linecap:round; stroke-linejoin:round; stroke-width:4; stroke-opacity:1; fill:none\" points=\"\n",
       "  189.233,1039.96 208.13,1039.96 \n",
       "  \"/>\n",
       "<polyline clip-path=\"url(#clip290)\" style=\"stroke:#000000; stroke-linecap:round; stroke-linejoin:round; stroke-width:4; stroke-opacity:1; fill:none\" points=\"\n",
       "  189.233,357.799 208.13,357.799 \n",
       "  \"/>\n",
       "<path clip-path=\"url(#clip290)\" d=\"M51.6634 1059.75 L59.3023 1059.75 L59.3023 1033.38 L50.9921 1035.05 L50.9921 1030.79 L59.256 1029.12 L63.9319 1029.12 L63.9319 1059.75 L71.5707 1059.75 L71.5707 1063.68 L51.6634 1063.68 L51.6634 1059.75 Z\" fill=\"#000000\" fill-rule=\"evenodd\" fill-opacity=\"1\" /><path clip-path=\"url(#clip290)\" d=\"M91.0151 1032.2 Q87.404 1032.2 85.5753 1035.77 Q83.7697 1039.31 83.7697 1046.44 Q83.7697 1053.55 85.5753 1057.11 Q87.404 1060.65 91.0151 1060.65 Q94.6493 1060.65 96.4548 1057.11 Q98.2835 1053.55 98.2835 1046.44 Q98.2835 1039.31 96.4548 1035.77 Q94.6493 1032.2 91.0151 1032.2 M91.0151 1028.5 Q96.8252 1028.5 99.8808 1033.11 Q102.959 1037.69 102.959 1046.44 Q102.959 1055.17 99.8808 1059.77 Q96.8252 1064.36 91.0151 1064.36 Q85.2049 1064.36 82.1262 1059.77 Q79.0707 1055.17 79.0707 1046.44 Q79.0707 1037.69 82.1262 1033.11 Q85.2049 1028.5 91.0151 1028.5 Z\" fill=\"#000000\" fill-rule=\"evenodd\" fill-opacity=\"1\" /><path clip-path=\"url(#clip290)\" d=\"M102.959 1022.6 L127.071 1022.6 L127.071 1025.8 L102.959 1025.8 L102.959 1022.6 Z\" fill=\"#000000\" fill-rule=\"evenodd\" fill-opacity=\"1\" /><path clip-path=\"url(#clip290)\" d=\"M143.866 1020.72 Q141.308 1020.72 139.804 1022.47 Q138.318 1024.22 138.318 1027.26 Q138.318 1030.29 139.804 1032.06 Q141.308 1033.81 143.866 1033.81 Q146.424 1033.81 147.91 1032.06 Q149.415 1030.29 149.415 1027.26 Q149.415 1024.22 147.91 1022.47 Q146.424 1020.72 143.866 1020.72 M151.408 1008.81 L151.408 1012.27 Q149.979 1011.6 148.512 1011.24 Q147.064 1010.88 145.634 1010.88 Q141.873 1010.88 139.879 1013.42 Q137.904 1015.96 137.622 1021.1 Q138.732 1019.46 140.406 1018.59 Q142.08 1017.71 144.092 1017.71 Q148.324 1017.71 150.769 1020.29 Q153.233 1022.84 153.233 1027.26 Q153.233 1031.59 150.675 1034.2 Q148.117 1036.82 143.866 1036.82 Q138.995 1036.82 136.418 1033.1 Q133.842 1029.35 133.842 1022.26 Q133.842 1015.6 137.002 1011.65 Q140.161 1007.69 145.484 1007.69 Q146.913 1007.69 148.361 1007.97 Q149.828 1008.25 151.408 1008.81 Z\" fill=\"#000000\" fill-rule=\"evenodd\" fill-opacity=\"1\" /><path clip-path=\"url(#clip290)\" d=\"M52.3217 377.592 L59.9605 377.592 L59.9605 351.226 L51.6504 352.893 L51.6504 348.634 L59.9142 346.967 L64.5901 346.967 L64.5901 377.592 L72.229 377.592 L72.229 381.527 L52.3217 381.527 L52.3217 377.592 Z\" fill=\"#000000\" fill-rule=\"evenodd\" fill-opacity=\"1\" /><path clip-path=\"url(#clip290)\" d=\"M91.6733 350.046 Q88.0622 350.046 86.2335 353.61 Q84.428 357.152 84.428 364.282 Q84.428 371.388 86.2335 374.953 Q88.0622 378.495 91.6733 378.495 Q95.3076 378.495 97.1131 374.953 Q98.9418 371.388 98.9418 364.282 Q98.9418 357.152 97.1131 353.61 Q95.3076 350.046 91.6733 350.046 M91.6733 346.342 Q97.4835 346.342 100.539 350.948 Q103.618 355.532 103.618 364.282 Q103.618 373.008 100.539 377.615 Q97.4835 382.198 91.6733 382.198 Q85.8632 382.198 82.7845 377.615 Q79.729 373.008 79.729 364.282 Q79.729 355.532 82.7845 350.948 Q85.8632 346.342 91.6733 346.342 Z\" fill=\"#000000\" fill-rule=\"evenodd\" fill-opacity=\"1\" /><path clip-path=\"url(#clip290)\" d=\"M103.618 340.443 L127.729 340.443 L127.729 343.641 L103.618 343.641 L103.618 340.443 Z\" fill=\"#000000\" fill-rule=\"evenodd\" fill-opacity=\"1\" /><path clip-path=\"url(#clip290)\" d=\"M147.44 338.976 Q150.167 339.559 151.69 341.402 Q153.233 343.246 153.233 345.954 Q153.233 350.11 150.374 352.386 Q147.515 354.662 142.249 354.662 Q140.481 354.662 138.6 354.305 Q136.738 353.966 134.745 353.27 L134.745 349.603 Q136.324 350.524 138.205 350.994 Q140.086 351.465 142.136 351.465 Q145.71 351.465 147.571 350.054 Q149.452 348.643 149.452 345.954 Q149.452 343.471 147.703 342.08 Q145.973 340.669 142.87 340.669 L139.597 340.669 L139.597 337.547 L143.02 337.547 Q145.822 337.547 147.308 336.437 Q148.794 335.309 148.794 333.202 Q148.794 331.039 147.252 329.892 Q145.728 328.726 142.87 328.726 Q141.308 328.726 139.522 329.065 Q137.735 329.403 135.591 330.118 L135.591 326.732 Q137.754 326.131 139.635 325.83 Q141.534 325.529 143.208 325.529 Q147.534 325.529 150.054 327.504 Q152.574 329.46 152.574 332.807 Q152.574 335.139 151.239 336.757 Q149.904 338.356 147.44 338.976 Z\" fill=\"#000000\" fill-rule=\"evenodd\" fill-opacity=\"1\" /><path clip-path=\"url(#clip290)\" d=\"M499.905 12.096 L512.098 12.096 L527.532 53.2532 L543.047 12.096 L555.24 12.096 L555.24 72.576 L547.26 72.576 L547.26 19.4686 L531.664 60.9499 L523.44 60.9499 L507.844 19.4686 L507.844 72.576 L499.905 72.576 L499.905 12.096 Z\" fill=\"#000000\" fill-rule=\"evenodd\" fill-opacity=\"1\" /><path clip-path=\"url(#clip290)\" d=\"M571.16 27.2059 L578.614 27.2059 L578.614 72.576 L571.16 72.576 L571.16 27.2059 M571.16 9.54393 L578.614 9.54393 L578.614 18.9825 L571.16 18.9825 L571.16 9.54393 Z\" fill=\"#000000\" fill-rule=\"evenodd\" fill-opacity=\"1\" /><path clip-path=\"url(#clip290)\" d=\"M626.86 28.9478 L626.86 35.9153 Q623.7 34.1734 620.5 33.3227 Q617.34 32.4315 614.1 32.4315 Q606.849 32.4315 602.838 37.0496 Q598.828 41.6271 598.828 49.9314 Q598.828 58.2358 602.838 62.8538 Q606.849 67.4314 614.1 67.4314 Q617.34 67.4314 620.5 66.5807 Q623.7 65.6895 626.86 63.9476 L626.86 70.8341 Q623.741 72.2924 620.379 73.0216 Q617.057 73.7508 613.289 73.7508 Q603.041 73.7508 597.005 67.3098 Q590.969 60.8689 590.969 49.9314 Q590.969 38.832 597.045 32.472 Q603.162 26.1121 613.776 26.1121 Q617.219 26.1121 620.5 26.8413 Q623.781 27.5299 626.86 28.9478 Z\" fill=\"#000000\" fill-rule=\"evenodd\" fill-opacity=\"1\" /><path clip-path=\"url(#clip290)\" d=\"M666.113 34.1734 Q664.857 33.4443 663.359 33.1202 Q661.9 32.7556 660.118 32.7556 Q653.798 32.7556 650.396 36.8875 Q647.033 40.9789 647.033 48.6757 L647.033 72.576 L639.539 72.576 L639.539 27.2059 L647.033 27.2059 L647.033 34.2544 Q649.383 30.1225 653.15 28.1376 Q656.918 26.1121 662.305 26.1121 Q663.075 26.1121 664.007 26.2337 Q664.938 26.3147 666.073 26.5172 L666.113 34.1734 Z\" fill=\"#000000\" fill-rule=\"evenodd\" fill-opacity=\"1\" /><path clip-path=\"url(#clip290)\" d=\"M689.69 32.4315 Q683.694 32.4315 680.21 37.1306 Q676.727 41.7891 676.727 49.9314 Q676.727 58.0738 680.17 62.7728 Q683.654 67.4314 689.69 67.4314 Q695.644 67.4314 699.128 62.7323 Q702.612 58.0333 702.612 49.9314 Q702.612 41.8701 699.128 37.1711 Q695.644 32.4315 689.69 32.4315 M689.69 26.1121 Q699.412 26.1121 704.961 32.4315 Q710.511 38.7509 710.511 49.9314 Q710.511 61.0714 704.961 67.4314 Q699.412 73.7508 689.69 73.7508 Q679.927 73.7508 674.377 67.4314 Q668.868 61.0714 668.868 49.9314 Q668.868 38.7509 674.377 32.4315 Q679.927 26.1121 689.69 26.1121 Z\" fill=\"#000000\" fill-rule=\"evenodd\" fill-opacity=\"1\" /><path clip-path=\"url(#clip290)\" d=\"M720.638 46.5287 L742.473 46.5287 L742.473 53.1722 L720.638 53.1722 L720.638 46.5287 Z\" fill=\"#000000\" fill-rule=\"evenodd\" fill-opacity=\"1\" /><path clip-path=\"url(#clip290)\" d=\"M773.462 32.4315 Q767.467 32.4315 763.983 37.1306 Q760.499 41.7891 760.499 49.9314 Q760.499 58.0738 763.943 62.7728 Q767.426 67.4314 773.462 67.4314 Q779.417 67.4314 782.901 62.7323 Q786.385 58.0333 786.385 49.9314 Q786.385 41.8701 782.901 37.1711 Q779.417 32.4315 773.462 32.4315 M773.462 26.1121 Q783.184 26.1121 788.734 32.4315 Q794.284 38.7509 794.284 49.9314 Q794.284 61.0714 788.734 67.4314 Q783.184 73.7508 773.462 73.7508 Q763.7 73.7508 758.15 67.4314 Q752.641 61.0714 752.641 49.9314 Q752.641 38.7509 758.15 32.4315 Q763.7 26.1121 773.462 26.1121 Z\" fill=\"#000000\" fill-rule=\"evenodd\" fill-opacity=\"1\" /><path clip-path=\"url(#clip290)\" d=\"M813.85 65.7705 L813.85 89.8329 L806.356 89.8329 L806.356 27.2059 L813.85 27.2059 L813.85 34.0924 Q816.199 30.0415 819.764 28.0971 Q823.369 26.1121 828.352 26.1121 Q836.616 26.1121 841.76 32.6746 Q846.946 39.2371 846.946 49.9314 Q846.946 60.6258 841.76 67.1883 Q836.616 73.7508 828.352 73.7508 Q823.369 73.7508 819.764 71.8063 Q816.199 69.8214 813.85 65.7705 M839.208 49.9314 Q839.208 41.7081 835.806 37.0496 Q832.443 32.3505 826.529 32.3505 Q820.615 32.3505 817.212 37.0496 Q813.85 41.7081 813.85 49.9314 Q813.85 58.1548 817.212 62.8538 Q820.615 67.5124 826.529 67.5124 Q832.443 67.5124 835.806 62.8538 Q839.208 58.1548 839.208 49.9314 Z\" fill=\"#000000\" fill-rule=\"evenodd\" fill-opacity=\"1\" /><path clip-path=\"url(#clip290)\" d=\"M866.674 14.324 L866.674 27.2059 L882.026 27.2059 L882.026 32.9987 L866.674 32.9987 L866.674 57.6282 Q866.674 63.1779 868.172 64.7578 Q869.712 66.3376 874.37 66.3376 L882.026 66.3376 L882.026 72.576 L874.37 72.576 Q865.742 72.576 862.461 69.3758 Q859.179 66.1351 859.179 57.6282 L859.179 32.9987 L853.711 32.9987 L853.711 27.2059 L859.179 27.2059 L859.179 14.324 L866.674 14.324 Z\" fill=\"#000000\" fill-rule=\"evenodd\" fill-opacity=\"1\" /><path clip-path=\"url(#clip290)\" d=\"M891.83 27.2059 L899.283 27.2059 L899.283 72.576 L891.83 72.576 L891.83 27.2059 M891.83 9.54393 L899.283 9.54393 L899.283 18.9825 L891.83 18.9825 L891.83 9.54393 Z\" fill=\"#000000\" fill-rule=\"evenodd\" fill-opacity=\"1\" /><path clip-path=\"url(#clip290)\" d=\"M950.203 35.9153 Q952.998 30.8922 956.887 28.5022 Q960.776 26.1121 966.042 26.1121 Q973.131 26.1121 976.98 31.0947 Q980.828 36.0368 980.828 45.1919 L980.828 72.576 L973.334 72.576 L973.334 45.4349 Q973.334 38.913 971.025 35.7533 Q968.716 32.5936 963.976 32.5936 Q958.183 32.5936 954.821 36.4419 Q951.459 40.2903 951.459 46.9338 L951.459 72.576 L943.965 72.576 L943.965 45.4349 Q943.965 38.8725 941.656 35.7533 Q939.347 32.5936 934.526 32.5936 Q928.814 32.5936 925.452 36.4824 Q922.09 40.3308 922.09 46.9338 L922.09 72.576 L914.596 72.576 L914.596 27.2059 L922.09 27.2059 L922.09 34.2544 Q924.642 30.082 928.207 28.0971 Q931.772 26.1121 936.673 26.1121 Q941.615 26.1121 945.059 28.6237 Q948.542 31.1352 950.203 35.9153 Z\" fill=\"#000000\" fill-rule=\"evenodd\" fill-opacity=\"1\" /><path clip-path=\"url(#clip290)\" d=\"M995.695 27.2059 L1003.15 27.2059 L1003.15 72.576 L995.695 72.576 L995.695 27.2059 M995.695 9.54393 L1003.15 9.54393 L1003.15 18.9825 L995.695 18.9825 L995.695 9.54393 Z\" fill=\"#000000\" fill-rule=\"evenodd\" fill-opacity=\"1\" /><path clip-path=\"url(#clip290)\" d=\"M1015.5 27.2059 L1050.91 27.2059 L1050.91 34.0114 L1022.88 66.6212 L1050.91 66.6212 L1050.91 72.576 L1014.49 72.576 L1014.49 65.7705 L1042.52 33.1607 L1015.5 33.1607 L1015.5 27.2059 Z\" fill=\"#000000\" fill-rule=\"evenodd\" fill-opacity=\"1\" /><path clip-path=\"url(#clip290)\" d=\"M1082.91 49.7694 Q1073.88 49.7694 1070.39 51.8354 Q1066.91 53.9013 1066.91 58.8839 Q1066.91 62.8538 1069.5 65.2034 Q1072.14 67.5124 1076.63 67.5124 Q1082.83 67.5124 1086.56 63.1374 Q1090.32 58.7219 1090.32 51.4303 L1090.32 49.7694 L1082.91 49.7694 M1097.78 46.6907 L1097.78 72.576 L1090.32 72.576 L1090.32 65.6895 Q1087.77 69.8214 1083.96 71.8063 Q1080.16 73.7508 1074.65 73.7508 Q1067.68 73.7508 1063.55 69.8619 Q1059.46 65.9325 1059.46 59.3701 Q1059.46 51.7138 1064.56 47.825 Q1069.7 43.9361 1079.87 43.9361 L1090.32 43.9361 L1090.32 43.2069 Q1090.32 38.0623 1086.92 35.2672 Q1083.56 32.4315 1077.44 32.4315 Q1073.55 32.4315 1069.87 33.3632 Q1066.18 34.295 1062.78 36.1584 L1062.78 29.2718 Q1066.87 27.692 1070.72 26.9223 Q1074.57 26.1121 1078.21 26.1121 Q1088.06 26.1121 1092.92 31.2163 Q1097.78 36.3204 1097.78 46.6907 Z\" fill=\"#000000\" fill-rule=\"evenodd\" fill-opacity=\"1\" /><path clip-path=\"url(#clip290)\" d=\"M1120.5 14.324 L1120.5 27.2059 L1135.86 27.2059 L1135.86 32.9987 L1120.5 32.9987 L1120.5 57.6282 Q1120.5 63.1779 1122 64.7578 Q1123.54 66.3376 1128.2 66.3376 L1135.86 66.3376 L1135.86 72.576 L1128.2 72.576 Q1119.57 72.576 1116.29 69.3758 Q1113.01 66.1351 1113.01 57.6282 L1113.01 32.9987 L1107.54 32.9987 L1107.54 27.2059 L1113.01 27.2059 L1113.01 14.324 L1120.5 14.324 Z\" fill=\"#000000\" fill-rule=\"evenodd\" fill-opacity=\"1\" /><path clip-path=\"url(#clip290)\" d=\"M1145.66 27.2059 L1153.11 27.2059 L1153.11 72.576 L1145.66 72.576 L1145.66 27.2059 M1145.66 9.54393 L1153.11 9.54393 L1153.11 18.9825 L1145.66 18.9825 L1145.66 9.54393 Z\" fill=\"#000000\" fill-rule=\"evenodd\" fill-opacity=\"1\" /><path clip-path=\"url(#clip290)\" d=\"M1186.29 32.4315 Q1180.29 32.4315 1176.81 37.1306 Q1173.33 41.7891 1173.33 49.9314 Q1173.33 58.0738 1176.77 62.7728 Q1180.25 67.4314 1186.29 67.4314 Q1192.24 67.4314 1195.73 62.7323 Q1199.21 58.0333 1199.21 49.9314 Q1199.21 41.8701 1195.73 37.1711 Q1192.24 32.4315 1186.29 32.4315 M1186.29 26.1121 Q1196.01 26.1121 1201.56 32.4315 Q1207.11 38.7509 1207.11 49.9314 Q1207.11 61.0714 1201.56 67.4314 Q1196.01 73.7508 1186.29 73.7508 Q1176.53 73.7508 1170.98 67.4314 Q1165.47 61.0714 1165.47 49.9314 Q1165.47 38.7509 1170.98 32.4315 Q1176.53 26.1121 1186.29 26.1121 Z\" fill=\"#000000\" fill-rule=\"evenodd\" fill-opacity=\"1\" /><path clip-path=\"url(#clip290)\" d=\"M1257.18 45.1919 L1257.18 72.576 L1249.73 72.576 L1249.73 45.4349 Q1249.73 38.994 1247.22 35.7938 Q1244.7 32.5936 1239.68 32.5936 Q1233.64 32.5936 1230.16 36.4419 Q1226.68 40.2903 1226.68 46.9338 L1226.68 72.576 L1219.18 72.576 L1219.18 27.2059 L1226.68 27.2059 L1226.68 34.2544 Q1229.35 30.163 1232.96 28.1376 Q1236.6 26.1121 1241.34 26.1121 Q1249.16 26.1121 1253.17 30.9732 Q1257.18 35.7938 1257.18 45.1919 Z\" fill=\"#000000\" fill-rule=\"evenodd\" fill-opacity=\"1\" /><path clip-path=\"url(#clip290)\" d=\"M1300.97 28.5427 L1300.97 35.5912 Q1297.81 33.9709 1294.41 33.1607 Q1291.01 32.3505 1287.36 32.3505 Q1281.81 32.3505 1279.02 34.0519 Q1276.26 35.7533 1276.26 39.156 Q1276.26 41.7486 1278.25 43.2475 Q1280.23 44.7058 1286.23 46.0426 L1288.78 46.6097 Q1296.72 48.3111 1300.04 51.4303 Q1303.4 54.509 1303.4 60.0587 Q1303.4 66.3781 1298.38 70.0644 Q1293.4 73.7508 1284.65 73.7508 Q1281 73.7508 1277.03 73.0216 Q1273.1 72.3329 1268.73 70.9151 L1268.73 63.2184 Q1272.86 65.3654 1276.87 66.4591 Q1280.88 67.5124 1284.81 67.5124 Q1290.07 67.5124 1292.91 65.73 Q1295.75 63.9071 1295.75 60.6258 Q1295.75 57.5877 1293.68 55.9673 Q1291.65 54.3469 1284.73 52.8481 L1282.13 52.2405 Q1275.21 50.7821 1272.13 47.7845 Q1269.05 44.7463 1269.05 39.4801 Q1269.05 33.0797 1273.59 29.5959 Q1278.12 26.1121 1286.47 26.1121 Q1290.6 26.1121 1294.25 26.7198 Q1297.89 27.3274 1300.97 28.5427 Z\" fill=\"#000000\" fill-rule=\"evenodd\" fill-opacity=\"1\" /><path clip-path=\"url(#clip290)\" d=\"M1376.97 35.9153 Q1379.76 30.8922 1383.65 28.5022 Q1387.54 26.1121 1392.8 26.1121 Q1399.89 26.1121 1403.74 31.0947 Q1407.59 36.0368 1407.59 45.1919 L1407.59 72.576 L1400.1 72.576 L1400.1 45.4349 Q1400.1 38.913 1397.79 35.7533 Q1395.48 32.5936 1390.74 32.5936 Q1384.95 32.5936 1381.58 36.4419 Q1378.22 40.2903 1378.22 46.9338 L1378.22 72.576 L1370.73 72.576 L1370.73 45.4349 Q1370.73 38.8725 1368.42 35.7533 Q1366.11 32.5936 1361.29 32.5936 Q1355.58 32.5936 1352.21 36.4824 Q1348.85 40.3308 1348.85 46.9338 L1348.85 72.576 L1341.36 72.576 L1341.36 27.2059 L1348.85 27.2059 L1348.85 34.2544 Q1351.4 30.082 1354.97 28.0971 Q1358.53 26.1121 1363.44 26.1121 Q1368.38 26.1121 1371.82 28.6237 Q1375.31 31.1352 1376.97 35.9153 Z\" fill=\"#000000\" fill-rule=\"evenodd\" fill-opacity=\"1\" /><path clip-path=\"url(#clip290)\" d=\"M1443.08 49.7694 Q1434.04 49.7694 1430.56 51.8354 Q1427.08 53.9013 1427.08 58.8839 Q1427.08 62.8538 1429.67 65.2034 Q1432.3 67.5124 1436.8 67.5124 Q1443 67.5124 1446.72 63.1374 Q1450.49 58.7219 1450.49 51.4303 L1450.49 49.7694 L1443.08 49.7694 M1457.94 46.6907 L1457.94 72.576 L1450.49 72.576 L1450.49 65.6895 Q1447.94 69.8214 1444.13 71.8063 Q1440.32 73.7508 1434.81 73.7508 Q1427.85 73.7508 1423.71 69.8619 Q1419.62 65.9325 1419.62 59.3701 Q1419.62 51.7138 1424.73 47.825 Q1429.87 43.9361 1440.04 43.9361 L1450.49 43.9361 L1450.49 43.2069 Q1450.49 38.0623 1447.09 35.2672 Q1443.72 32.4315 1437.61 32.4315 Q1433.72 32.4315 1430.03 33.3632 Q1426.35 34.295 1422.94 36.1584 L1422.94 29.2718 Q1427.04 27.692 1430.88 26.9223 Q1434.73 26.1121 1438.38 26.1121 Q1448.22 26.1121 1453.08 31.2163 Q1457.94 36.3204 1457.94 46.6907 Z\" fill=\"#000000\" fill-rule=\"evenodd\" fill-opacity=\"1\" /><path clip-path=\"url(#clip290)\" d=\"M1480.67 14.324 L1480.67 27.2059 L1496.02 27.2059 L1496.02 32.9987 L1480.67 32.9987 L1480.67 57.6282 Q1480.67 63.1779 1482.17 64.7578 Q1483.71 66.3376 1488.37 66.3376 L1496.02 66.3376 L1496.02 72.576 L1488.37 72.576 Q1479.74 72.576 1476.46 69.3758 Q1473.17 66.1351 1473.17 57.6282 L1473.17 32.9987 L1467.71 32.9987 L1467.71 27.2059 L1473.17 27.2059 L1473.17 14.324 L1480.67 14.324 Z\" fill=\"#000000\" fill-rule=\"evenodd\" fill-opacity=\"1\" /><path clip-path=\"url(#clip290)\" d=\"M1513.2 14.324 L1513.2 27.2059 L1528.55 27.2059 L1528.55 32.9987 L1513.2 32.9987 L1513.2 57.6282 Q1513.2 63.1779 1514.7 64.7578 Q1516.24 66.3376 1520.89 66.3376 L1528.55 66.3376 L1528.55 72.576 L1520.89 72.576 Q1512.27 72.576 1508.98 69.3758 Q1505.7 66.1351 1505.7 57.6282 L1505.7 32.9987 L1500.23 32.9987 L1500.23 27.2059 L1505.7 27.2059 L1505.7 14.324 L1513.2 14.324 Z\" fill=\"#000000\" fill-rule=\"evenodd\" fill-opacity=\"1\" /><path clip-path=\"url(#clip290)\" d=\"M1577.16 48.0275 L1577.16 51.6733 L1542.89 51.6733 Q1543.38 59.3701 1547.51 63.421 Q1551.68 67.4314 1559.09 67.4314 Q1563.39 67.4314 1567.4 66.3781 Q1571.45 65.3249 1575.42 63.2184 L1575.42 70.267 Q1571.41 71.9684 1567.2 72.8596 Q1562.98 73.7508 1558.65 73.7508 Q1547.79 73.7508 1541.43 67.4314 Q1535.11 61.1119 1535.11 50.3365 Q1535.11 39.1965 1541.11 32.6746 Q1547.14 26.1121 1557.35 26.1121 Q1566.51 26.1121 1571.81 32.0264 Q1577.16 37.9003 1577.16 48.0275 M1569.71 45.84 Q1569.63 39.7232 1566.26 36.0774 Q1562.94 32.4315 1557.43 32.4315 Q1551.2 32.4315 1547.43 35.9558 Q1543.7 39.4801 1543.13 45.8805 L1569.71 45.84 Z\" fill=\"#000000\" fill-rule=\"evenodd\" fill-opacity=\"1\" /><path clip-path=\"url(#clip290)\" d=\"M1615.69 34.1734 Q1614.43 33.4443 1612.93 33.1202 Q1611.47 32.7556 1609.69 32.7556 Q1603.37 32.7556 1599.97 36.8875 Q1596.61 40.9789 1596.61 48.6757 L1596.61 72.576 L1589.11 72.576 L1589.11 27.2059 L1596.61 27.2059 L1596.61 34.2544 Q1598.96 30.1225 1602.72 28.1376 Q1606.49 26.1121 1611.88 26.1121 Q1612.65 26.1121 1613.58 26.2337 Q1614.51 26.3147 1615.65 26.5172 L1615.69 34.1734 Z\" fill=\"#000000\" fill-rule=\"evenodd\" fill-opacity=\"1\" /><path clip-path=\"url(#clip290)\" d=\"M1672.84 9.54393 L1672.84 15.7418 L1665.71 15.7418 Q1661.7 15.7418 1660.12 17.3622 Q1658.58 18.9825 1658.58 23.1955 L1658.58 27.2059 L1670.86 27.2059 L1670.86 32.9987 L1658.58 32.9987 L1658.58 72.576 L1651.09 72.576 L1651.09 32.9987 L1643.96 32.9987 L1643.96 27.2059 L1651.09 27.2059 L1651.09 24.0462 Q1651.09 16.471 1654.61 13.0277 Q1658.14 9.54393 1665.8 9.54393 L1672.84 9.54393 Z\" fill=\"#000000\" fill-rule=\"evenodd\" fill-opacity=\"1\" /><path clip-path=\"url(#clip290)\" d=\"M1696.66 32.4315 Q1690.67 32.4315 1687.18 37.1306 Q1683.7 41.7891 1683.7 49.9314 Q1683.7 58.0738 1687.14 62.7728 Q1690.63 67.4314 1696.66 67.4314 Q1702.62 67.4314 1706.1 62.7323 Q1709.59 58.0333 1709.59 49.9314 Q1709.59 41.8701 1706.1 37.1711 Q1702.62 32.4315 1696.66 32.4315 M1696.66 26.1121 Q1706.39 26.1121 1711.94 32.4315 Q1717.48 38.7509 1717.48 49.9314 Q1717.48 61.0714 1711.94 67.4314 Q1706.39 73.7508 1696.66 73.7508 Q1686.9 73.7508 1681.35 67.4314 Q1675.84 61.0714 1675.84 49.9314 Q1675.84 38.7509 1681.35 32.4315 Q1686.9 26.1121 1696.66 26.1121 Z\" fill=\"#000000\" fill-rule=\"evenodd\" fill-opacity=\"1\" /><path clip-path=\"url(#clip290)\" d=\"M1756.13 34.1734 Q1754.87 33.4443 1753.38 33.1202 Q1751.92 32.7556 1750.14 32.7556 Q1743.82 32.7556 1740.41 36.8875 Q1737.05 40.9789 1737.05 48.6757 L1737.05 72.576 L1729.56 72.576 L1729.56 27.2059 L1737.05 27.2059 L1737.05 34.2544 Q1739.4 30.1225 1743.17 28.1376 Q1746.93 26.1121 1752.32 26.1121 Q1753.09 26.1121 1754.02 26.2337 Q1754.96 26.3147 1756.09 26.5172 L1756.13 34.1734 Z\" fill=\"#000000\" fill-rule=\"evenodd\" fill-opacity=\"1\" /><path clip-path=\"url(#clip290)\" d=\"M1798.83 43.6931 L1798.83 65.8515 L1811.95 65.8515 Q1818.55 65.8515 1821.71 63.1374 Q1824.91 60.3828 1824.91 54.752 Q1824.91 49.0808 1821.71 46.4072 Q1818.55 43.6931 1811.95 43.6931 L1798.83 43.6931 M1798.83 18.8205 L1798.83 37.0496 L1810.94 37.0496 Q1816.93 37.0496 1819.85 34.8216 Q1822.81 32.5531 1822.81 27.935 Q1822.81 23.3575 1819.85 21.089 Q1816.93 18.8205 1810.94 18.8205 L1798.83 18.8205 M1790.64 12.096 L1811.55 12.096 Q1820.9 12.096 1825.97 15.9849 Q1831.03 19.8737 1831.03 27.0438 Q1831.03 32.5936 1828.44 35.8748 Q1825.85 39.156 1820.82 39.9662 Q1826.86 41.2625 1830.18 45.3944 Q1833.54 49.4858 1833.54 55.6432 Q1833.54 63.745 1828.03 68.1605 Q1822.52 72.576 1812.36 72.576 L1790.64 72.576 L1790.64 12.096 Z\" fill=\"#000000\" fill-rule=\"evenodd\" fill-opacity=\"1\" /><path clip-path=\"url(#clip290)\" d=\"M1847.56 12.096 L1855.74 12.096 L1855.74 65.6895 L1885.19 65.6895 L1885.19 72.576 L1847.56 72.576 L1847.56 12.096 Z\" fill=\"#000000\" fill-rule=\"evenodd\" fill-opacity=\"1\" /><path clip-path=\"url(#clip290)\" d=\"M1915.9 20.1573 L1904.8 50.2555 L1927.04 50.2555 L1915.9 20.1573 M1911.28 12.096 L1920.56 12.096 L1943.61 72.576 L1935.1 72.576 L1929.59 57.061 L1902.33 57.061 L1896.82 72.576 L1888.19 72.576 L1911.28 12.096 Z\" fill=\"#000000\" fill-rule=\"evenodd\" fill-opacity=\"1\" /><path clip-path=\"url(#clip290)\" d=\"M1988.69 14.0809 L1988.69 22.0612 Q1984.03 19.8332 1979.9 18.7395 Q1975.77 17.6457 1971.92 17.6457 Q1965.24 17.6457 1961.59 20.2383 Q1957.99 22.8309 1957.99 27.611 Q1957.99 31.6214 1960.38 33.6873 Q1962.81 35.7128 1969.53 36.9686 L1974.47 37.9813 Q1983.63 39.7232 1987.96 44.1387 Q1992.34 48.5136 1992.34 55.8863 Q1992.34 64.6767 1986.42 69.2137 Q1980.55 73.7508 1969.17 73.7508 Q1964.87 73.7508 1960.01 72.7785 Q1955.19 71.8063 1950.01 69.9024 L1950.01 61.4765 Q1954.99 64.2716 1959.77 65.6895 Q1964.55 67.1073 1969.17 67.1073 Q1976.18 67.1073 1979.98 64.3527 Q1983.79 61.598 1983.79 56.4939 Q1983.79 52.0379 1981.04 49.5264 Q1978.32 47.0148 1972.08 45.759 L1967.1 44.7868 Q1957.95 42.9639 1953.86 39.075 Q1949.76 35.1862 1949.76 28.2591 Q1949.76 20.2383 1955.39 15.6203 Q1961.07 11.0023 1970.99 11.0023 Q1975.24 11.0023 1979.66 11.7719 Q1984.07 12.5416 1988.69 14.0809 Z\" fill=\"#000000\" fill-rule=\"evenodd\" fill-opacity=\"1\" /><path clip-path=\"url(#clip290)\" d=\"M2007.25 65.6895 L2020.61 65.6895 L2020.61 19.5497 L2006.07 22.4663 L2006.07 15.0127 L2020.53 12.096 L2028.72 12.096 L2028.72 65.6895 L2042.08 65.6895 L2042.08 72.576 L2007.25 72.576 L2007.25 65.6895 Z\" fill=\"#000000\" fill-rule=\"evenodd\" fill-opacity=\"1\" /><polyline clip-path=\"url(#clip292)\" style=\"stroke:#009af9; stroke-linecap:round; stroke-linejoin:round; stroke-width:4; stroke-opacity:1; fill:none\" points=\"\n",
       "  250.464,1363.94 477.249,1310.86 704.033,1144.65 930.818,1050.61 1157.6,949.965 1384.39,822.975 1611.17,656.847 1837.96,461.783 2064.74,308.287 2291.52,161.699 \n",
       "  \n",
       "  \"/>\n",
       "<polyline clip-path=\"url(#clip292)\" style=\"stroke:#e26f46; stroke-linecap:round; stroke-linejoin:round; stroke-width:4; stroke-opacity:1; fill:none\" points=\"\n",
       "  250.464,1435.94 477.249,1349.43 704.033,1314.81 930.818,1231.09 1157.6,1053.04 1384.39,942.687 1611.17,729.039 1837.96,581.692 2064.74,343.338 2291.52,179.875 \n",
       "  \n",
       "  \"/>\n",
       "<path clip-path=\"url(#clip290)\" d=\"\n",
       "M2019.59 1429.14 L2280.64 1429.14 L2280.64 1273.62 L2019.59 1273.62  Z\n",
       "  \" fill=\"#ffffff\" fill-rule=\"evenodd\" fill-opacity=\"1\"/>\n",
       "<polyline clip-path=\"url(#clip290)\" style=\"stroke:#000000; stroke-linecap:round; stroke-linejoin:round; stroke-width:4; stroke-opacity:1; fill:none\" points=\"\n",
       "  2019.59,1429.14 2280.64,1429.14 2280.64,1273.62 2019.59,1273.62 2019.59,1429.14 \n",
       "  \"/>\n",
       "<polyline clip-path=\"url(#clip290)\" style=\"stroke:#009af9; stroke-linecap:round; stroke-linejoin:round; stroke-width:4; stroke-opacity:1; fill:none\" points=\"\n",
       "  2043.63,1325.46 2187.86,1325.46 \n",
       "  \"/>\n",
       "<path clip-path=\"url(#clip290)\" d=\"M2211.9 1321.21 L2241.58 1321.21 L2241.58 1325.1 L2211.9 1325.1 L2211.9 1321.21 M2211.9 1330.66 L2241.58 1330.66 L2241.58 1334.59 L2211.9 1334.59 L2211.9 1330.66 Z\" fill=\"#000000\" fill-rule=\"evenodd\" fill-opacity=\"1\" /><polyline clip-path=\"url(#clip290)\" style=\"stroke:#e26f46; stroke-linecap:round; stroke-linejoin:round; stroke-width:4; stroke-opacity:1; fill:none\" points=\"\n",
       "  2043.63,1377.3 2187.86,1377.3 \n",
       "  \"/>\n",
       "<path clip-path=\"url(#clip290)\" d=\"M2211.9 1388.7 L2216.78 1388.7 L2216.78 1394.58 L2211.9 1394.58 L2211.9 1388.7 Z\" fill=\"#000000\" fill-rule=\"evenodd\" fill-opacity=\"1\" /><path clip-path=\"url(#clip290)\" d=\"M2226.92 1373.05 L2256.6 1373.05 L2256.6 1376.94 L2226.92 1376.94 L2226.92 1373.05 M2226.92 1382.5 L2256.6 1382.5 L2256.6 1386.43 L2226.92 1386.43 L2226.92 1382.5 Z\" fill=\"#000000\" fill-rule=\"evenodd\" fill-opacity=\"1\" /></svg>\n"
      ],
      "text/html": [
       "<?xml version=\"1.0\" encoding=\"utf-8\"?>\n",
       "<svg xmlns=\"http://www.w3.org/2000/svg\" xmlns:xlink=\"http://www.w3.org/1999/xlink\" width=\"600\" height=\"400\" viewBox=\"0 0 2400 1600\">\n",
       "<defs>\n",
       "  <clipPath id=\"clip340\">\n",
       "    <rect x=\"0\" y=\"0\" width=\"2400\" height=\"1600\"/>\n",
       "  </clipPath>\n",
       "</defs>\n",
       "<path clip-path=\"url(#clip340)\" d=\"\n",
       "M0 1600 L2400 1600 L2400 0 L0 0  Z\n",
       "  \" fill=\"#ffffff\" fill-rule=\"evenodd\" fill-opacity=\"1\"/>\n",
       "<defs>\n",
       "  <clipPath id=\"clip341\">\n",
       "    <rect x=\"480\" y=\"0\" width=\"1681\" height=\"1600\"/>\n",
       "  </clipPath>\n",
       "</defs>\n",
       "<path clip-path=\"url(#clip340)\" d=\"\n",
       "M189.233 1474.16 L2352.76 1474.16 L2352.76 123.472 L189.233 123.472  Z\n",
       "  \" fill=\"#ffffff\" fill-rule=\"evenodd\" fill-opacity=\"1\"/>\n",
       "<defs>\n",
       "  <clipPath id=\"clip342\">\n",
       "    <rect x=\"189\" y=\"123\" width=\"2165\" height=\"1352\"/>\n",
       "  </clipPath>\n",
       "</defs>\n",
       "<polyline clip-path=\"url(#clip342)\" style=\"stroke:#000000; stroke-linecap:round; stroke-linejoin:round; stroke-width:2; stroke-opacity:0.1; fill:none\" points=\"\n",
       "  550.257,1474.16 550.257,123.472 \n",
       "  \"/>\n",
       "<polyline clip-path=\"url(#clip342)\" style=\"stroke:#000000; stroke-linecap:round; stroke-linejoin:round; stroke-width:2; stroke-opacity:0.1; fill:none\" points=\"\n",
       "  1303.62,1474.16 1303.62,123.472 \n",
       "  \"/>\n",
       "<polyline clip-path=\"url(#clip342)\" style=\"stroke:#000000; stroke-linecap:round; stroke-linejoin:round; stroke-width:2; stroke-opacity:0.1; fill:none\" points=\"\n",
       "  2056.98,1474.16 2056.98,123.472 \n",
       "  \"/>\n",
       "<polyline clip-path=\"url(#clip340)\" style=\"stroke:#000000; stroke-linecap:round; stroke-linejoin:round; stroke-width:4; stroke-opacity:1; fill:none\" points=\"\n",
       "  189.233,1474.16 2352.76,1474.16 \n",
       "  \"/>\n",
       "<polyline clip-path=\"url(#clip340)\" style=\"stroke:#000000; stroke-linecap:round; stroke-linejoin:round; stroke-width:4; stroke-opacity:1; fill:none\" points=\"\n",
       "  550.257,1474.16 550.257,1455.27 \n",
       "  \"/>\n",
       "<polyline clip-path=\"url(#clip340)\" style=\"stroke:#000000; stroke-linecap:round; stroke-linejoin:round; stroke-width:4; stroke-opacity:1; fill:none\" points=\"\n",
       "  1303.62,1474.16 1303.62,1455.27 \n",
       "  \"/>\n",
       "<polyline clip-path=\"url(#clip340)\" style=\"stroke:#000000; stroke-linecap:round; stroke-linejoin:round; stroke-width:4; stroke-opacity:1; fill:none\" points=\"\n",
       "  2056.98,1474.16 2056.98,1455.27 \n",
       "  \"/>\n",
       "<path clip-path=\"url(#clip340)\" d=\"M516.585 1548.29 L524.224 1548.29 L524.224 1521.92 L515.913 1523.59 L515.913 1519.33 L524.177 1517.66 L528.853 1517.66 L528.853 1548.29 L536.492 1548.29 L536.492 1552.22 L516.585 1552.22 L516.585 1548.29 Z\" fill=\"#000000\" fill-rule=\"evenodd\" fill-opacity=\"1\" /><path clip-path=\"url(#clip340)\" d=\"M555.936 1520.74 Q552.325 1520.74 550.497 1524.31 Q548.691 1527.85 548.691 1534.98 Q548.691 1542.09 550.497 1545.65 Q552.325 1549.19 555.936 1549.19 Q559.571 1549.19 561.376 1545.65 Q563.205 1542.09 563.205 1534.98 Q563.205 1527.85 561.376 1524.31 Q559.571 1520.74 555.936 1520.74 M555.936 1517.04 Q561.746 1517.04 564.802 1521.65 Q567.881 1526.23 567.881 1534.98 Q567.881 1543.71 564.802 1548.31 Q561.746 1552.9 555.936 1552.9 Q550.126 1552.9 547.047 1548.31 Q543.992 1543.71 543.992 1534.98 Q543.992 1526.23 547.047 1521.65 Q550.126 1517.04 555.936 1517.04 Z\" fill=\"#000000\" fill-rule=\"evenodd\" fill-opacity=\"1\" /><path clip-path=\"url(#clip340)\" d=\"M568.426 1521.62 L574.633 1521.62 L574.633 1500.19 L567.881 1501.55 L567.881 1498.09 L574.595 1496.73 L578.394 1496.73 L578.394 1521.62 L584.601 1521.62 L584.601 1524.81 L568.426 1524.81 L568.426 1521.62 Z\" fill=\"#000000\" fill-rule=\"evenodd\" fill-opacity=\"1\" /><path clip-path=\"url(#clip340)\" d=\"M1269.39 1548.29 L1277.03 1548.29 L1277.03 1521.92 L1268.72 1523.59 L1268.72 1519.33 L1276.98 1517.66 L1281.66 1517.66 L1281.66 1548.29 L1289.3 1548.29 L1289.3 1552.22 L1269.39 1552.22 L1269.39 1548.29 Z\" fill=\"#000000\" fill-rule=\"evenodd\" fill-opacity=\"1\" /><path clip-path=\"url(#clip340)\" d=\"M1308.74 1520.74 Q1305.13 1520.74 1303.3 1524.31 Q1301.5 1527.85 1301.5 1534.98 Q1301.5 1542.09 1303.3 1545.65 Q1305.13 1549.19 1308.74 1549.19 Q1312.38 1549.19 1314.18 1545.65 Q1316.01 1542.09 1316.01 1534.98 Q1316.01 1527.85 1314.18 1524.31 Q1312.38 1520.74 1308.74 1520.74 M1308.74 1517.04 Q1314.55 1517.04 1317.61 1521.65 Q1320.69 1526.23 1320.69 1534.98 Q1320.69 1543.71 1317.61 1548.31 Q1314.55 1552.9 1308.74 1552.9 Q1302.93 1552.9 1299.85 1548.31 Q1296.8 1543.71 1296.8 1534.98 Q1296.8 1526.23 1299.85 1521.65 Q1302.93 1517.04 1308.74 1517.04 Z\" fill=\"#000000\" fill-rule=\"evenodd\" fill-opacity=\"1\" /><path clip-path=\"url(#clip340)\" d=\"M1325.26 1521.62 L1338.52 1521.62 L1338.52 1524.81 L1320.69 1524.81 L1320.69 1521.62 Q1322.85 1519.38 1326.57 1515.62 Q1330.32 1511.84 1331.28 1510.75 Q1333.1 1508.7 1333.82 1507.29 Q1334.55 1505.86 1334.55 1504.48 Q1334.55 1502.24 1332.97 1500.83 Q1331.41 1499.42 1328.89 1499.42 Q1327.1 1499.42 1325.11 1500.04 Q1323.13 1500.67 1320.88 1501.93 L1320.88 1498.09 Q1323.17 1497.17 1325.16 1496.7 Q1327.16 1496.23 1328.81 1496.23 Q1333.18 1496.23 1335.77 1498.41 Q1338.37 1500.59 1338.37 1504.24 Q1338.37 1505.97 1337.71 1507.53 Q1337.07 1509.07 1335.36 1511.18 Q1334.89 1511.72 1332.37 1514.34 Q1329.85 1516.93 1325.26 1521.62 Z\" fill=\"#000000\" fill-rule=\"evenodd\" fill-opacity=\"1\" /><path clip-path=\"url(#clip340)\" d=\"M2022.42 1548.29 L2030.06 1548.29 L2030.06 1521.92 L2021.75 1523.59 L2021.75 1519.33 L2030.02 1517.66 L2034.69 1517.66 L2034.69 1548.29 L2042.33 1548.29 L2042.33 1552.22 L2022.42 1552.22 L2022.42 1548.29 Z\" fill=\"#000000\" fill-rule=\"evenodd\" fill-opacity=\"1\" /><path clip-path=\"url(#clip340)\" d=\"M2061.78 1520.74 Q2058.16 1520.74 2056.34 1524.31 Q2054.53 1527.85 2054.53 1534.98 Q2054.53 1542.09 2056.34 1545.65 Q2058.16 1549.19 2061.78 1549.19 Q2065.41 1549.19 2067.22 1545.65 Q2069.04 1542.09 2069.04 1534.98 Q2069.04 1527.85 2067.22 1524.31 Q2065.41 1520.74 2061.78 1520.74 M2061.78 1517.04 Q2067.59 1517.04 2070.64 1521.65 Q2073.72 1526.23 2073.72 1534.98 Q2073.72 1543.71 2070.64 1548.31 Q2067.59 1552.9 2061.78 1552.9 Q2055.97 1552.9 2052.89 1548.31 Q2049.83 1543.71 2049.83 1534.98 Q2049.83 1526.23 2052.89 1521.65 Q2055.97 1517.04 2061.78 1517.04 Z\" fill=\"#000000\" fill-rule=\"evenodd\" fill-opacity=\"1\" /><path clip-path=\"url(#clip340)\" d=\"M2086.41 1509.67 Q2089.14 1510.26 2090.67 1512.1 Q2092.21 1513.94 2092.21 1516.65 Q2092.21 1520.81 2089.35 1523.08 Q2086.49 1525.36 2081.22 1525.36 Q2079.46 1525.36 2077.58 1525 Q2075.71 1524.66 2073.72 1523.97 L2073.72 1520.3 Q2075.3 1521.22 2077.18 1521.69 Q2079.06 1522.16 2081.11 1522.16 Q2084.68 1522.16 2086.55 1520.75 Q2088.43 1519.34 2088.43 1516.65 Q2088.43 1514.17 2086.68 1512.78 Q2084.95 1511.37 2081.84 1511.37 L2078.57 1511.37 L2078.57 1508.24 L2082 1508.24 Q2084.8 1508.24 2086.28 1507.13 Q2087.77 1506.01 2087.77 1503.9 Q2087.77 1501.74 2086.23 1500.59 Q2084.7 1499.42 2081.84 1499.42 Q2080.28 1499.42 2078.5 1499.76 Q2076.71 1500.1 2074.57 1500.82 L2074.57 1497.43 Q2076.73 1496.83 2078.61 1496.53 Q2080.51 1496.23 2082.18 1496.23 Q2086.51 1496.23 2089.03 1498.2 Q2091.55 1500.16 2091.55 1503.51 Q2091.55 1505.84 2090.21 1507.45 Q2088.88 1509.05 2086.41 1509.67 Z\" fill=\"#000000\" fill-rule=\"evenodd\" fill-opacity=\"1\" /><polyline clip-path=\"url(#clip342)\" style=\"stroke:#000000; stroke-linecap:round; stroke-linejoin:round; stroke-width:2; stroke-opacity:0.1; fill:none\" points=\"\n",
       "  189.233,1039.96 2352.76,1039.96 \n",
       "  \"/>\n",
       "<polyline clip-path=\"url(#clip342)\" style=\"stroke:#000000; stroke-linecap:round; stroke-linejoin:round; stroke-width:2; stroke-opacity:0.1; fill:none\" points=\"\n",
       "  189.233,357.799 2352.76,357.799 \n",
       "  \"/>\n",
       "<polyline clip-path=\"url(#clip340)\" style=\"stroke:#000000; stroke-linecap:round; stroke-linejoin:round; stroke-width:4; stroke-opacity:1; fill:none\" points=\"\n",
       "  189.233,1474.16 189.233,123.472 \n",
       "  \"/>\n",
       "<polyline clip-path=\"url(#clip340)\" style=\"stroke:#000000; stroke-linecap:round; stroke-linejoin:round; stroke-width:4; stroke-opacity:1; fill:none\" points=\"\n",
       "  189.233,1039.96 208.13,1039.96 \n",
       "  \"/>\n",
       "<polyline clip-path=\"url(#clip340)\" style=\"stroke:#000000; stroke-linecap:round; stroke-linejoin:round; stroke-width:4; stroke-opacity:1; fill:none\" points=\"\n",
       "  189.233,357.799 208.13,357.799 \n",
       "  \"/>\n",
       "<path clip-path=\"url(#clip340)\" d=\"M51.6634 1059.75 L59.3023 1059.75 L59.3023 1033.38 L50.9921 1035.05 L50.9921 1030.79 L59.256 1029.12 L63.9319 1029.12 L63.9319 1059.75 L71.5707 1059.75 L71.5707 1063.68 L51.6634 1063.68 L51.6634 1059.75 Z\" fill=\"#000000\" fill-rule=\"evenodd\" fill-opacity=\"1\" /><path clip-path=\"url(#clip340)\" d=\"M91.0151 1032.2 Q87.404 1032.2 85.5753 1035.77 Q83.7697 1039.31 83.7697 1046.44 Q83.7697 1053.55 85.5753 1057.11 Q87.404 1060.65 91.0151 1060.65 Q94.6493 1060.65 96.4548 1057.11 Q98.2835 1053.55 98.2835 1046.44 Q98.2835 1039.31 96.4548 1035.77 Q94.6493 1032.2 91.0151 1032.2 M91.0151 1028.5 Q96.8252 1028.5 99.8808 1033.11 Q102.959 1037.69 102.959 1046.44 Q102.959 1055.17 99.8808 1059.77 Q96.8252 1064.36 91.0151 1064.36 Q85.2049 1064.36 82.1262 1059.77 Q79.0707 1055.17 79.0707 1046.44 Q79.0707 1037.69 82.1262 1033.11 Q85.2049 1028.5 91.0151 1028.5 Z\" fill=\"#000000\" fill-rule=\"evenodd\" fill-opacity=\"1\" /><path clip-path=\"url(#clip340)\" d=\"M102.959 1022.6 L127.071 1022.6 L127.071 1025.8 L102.959 1025.8 L102.959 1022.6 Z\" fill=\"#000000\" fill-rule=\"evenodd\" fill-opacity=\"1\" /><path clip-path=\"url(#clip340)\" d=\"M143.866 1020.72 Q141.308 1020.72 139.804 1022.47 Q138.318 1024.22 138.318 1027.26 Q138.318 1030.29 139.804 1032.06 Q141.308 1033.81 143.866 1033.81 Q146.424 1033.81 147.91 1032.06 Q149.415 1030.29 149.415 1027.26 Q149.415 1024.22 147.91 1022.47 Q146.424 1020.72 143.866 1020.72 M151.408 1008.81 L151.408 1012.27 Q149.979 1011.6 148.512 1011.24 Q147.064 1010.88 145.634 1010.88 Q141.873 1010.88 139.879 1013.42 Q137.904 1015.96 137.622 1021.1 Q138.732 1019.46 140.406 1018.59 Q142.08 1017.71 144.092 1017.71 Q148.324 1017.71 150.769 1020.29 Q153.233 1022.84 153.233 1027.26 Q153.233 1031.59 150.675 1034.2 Q148.117 1036.82 143.866 1036.82 Q138.995 1036.82 136.418 1033.1 Q133.842 1029.35 133.842 1022.26 Q133.842 1015.6 137.002 1011.65 Q140.161 1007.69 145.484 1007.69 Q146.913 1007.69 148.361 1007.97 Q149.828 1008.25 151.408 1008.81 Z\" fill=\"#000000\" fill-rule=\"evenodd\" fill-opacity=\"1\" /><path clip-path=\"url(#clip340)\" d=\"M52.3217 377.592 L59.9605 377.592 L59.9605 351.226 L51.6504 352.893 L51.6504 348.634 L59.9142 346.967 L64.5901 346.967 L64.5901 377.592 L72.229 377.592 L72.229 381.527 L52.3217 381.527 L52.3217 377.592 Z\" fill=\"#000000\" fill-rule=\"evenodd\" fill-opacity=\"1\" /><path clip-path=\"url(#clip340)\" d=\"M91.6733 350.046 Q88.0622 350.046 86.2335 353.61 Q84.428 357.152 84.428 364.282 Q84.428 371.388 86.2335 374.953 Q88.0622 378.495 91.6733 378.495 Q95.3076 378.495 97.1131 374.953 Q98.9418 371.388 98.9418 364.282 Q98.9418 357.152 97.1131 353.61 Q95.3076 350.046 91.6733 350.046 M91.6733 346.342 Q97.4835 346.342 100.539 350.948 Q103.618 355.532 103.618 364.282 Q103.618 373.008 100.539 377.615 Q97.4835 382.198 91.6733 382.198 Q85.8632 382.198 82.7845 377.615 Q79.729 373.008 79.729 364.282 Q79.729 355.532 82.7845 350.948 Q85.8632 346.342 91.6733 346.342 Z\" fill=\"#000000\" fill-rule=\"evenodd\" fill-opacity=\"1\" /><path clip-path=\"url(#clip340)\" d=\"M103.618 340.443 L127.729 340.443 L127.729 343.641 L103.618 343.641 L103.618 340.443 Z\" fill=\"#000000\" fill-rule=\"evenodd\" fill-opacity=\"1\" /><path clip-path=\"url(#clip340)\" d=\"M147.44 338.976 Q150.167 339.559 151.69 341.402 Q153.233 343.246 153.233 345.954 Q153.233 350.11 150.374 352.386 Q147.515 354.662 142.249 354.662 Q140.481 354.662 138.6 354.305 Q136.738 353.966 134.745 353.27 L134.745 349.603 Q136.324 350.524 138.205 350.994 Q140.086 351.465 142.136 351.465 Q145.71 351.465 147.571 350.054 Q149.452 348.643 149.452 345.954 Q149.452 343.471 147.703 342.08 Q145.973 340.669 142.87 340.669 L139.597 340.669 L139.597 337.547 L143.02 337.547 Q145.822 337.547 147.308 336.437 Q148.794 335.309 148.794 333.202 Q148.794 331.039 147.252 329.892 Q145.728 328.726 142.87 328.726 Q141.308 328.726 139.522 329.065 Q137.735 329.403 135.591 330.118 L135.591 326.732 Q137.754 326.131 139.635 325.83 Q141.534 325.529 143.208 325.529 Q147.534 325.529 150.054 327.504 Q152.574 329.46 152.574 332.807 Q152.574 335.139 151.239 336.757 Q149.904 338.356 147.44 338.976 Z\" fill=\"#000000\" fill-rule=\"evenodd\" fill-opacity=\"1\" /><path clip-path=\"url(#clip340)\" d=\"M499.905 12.096 L512.098 12.096 L527.532 53.2532 L543.047 12.096 L555.24 12.096 L555.24 72.576 L547.26 72.576 L547.26 19.4686 L531.664 60.9499 L523.44 60.9499 L507.844 19.4686 L507.844 72.576 L499.905 72.576 L499.905 12.096 Z\" fill=\"#000000\" fill-rule=\"evenodd\" fill-opacity=\"1\" /><path clip-path=\"url(#clip340)\" d=\"M571.16 27.2059 L578.614 27.2059 L578.614 72.576 L571.16 72.576 L571.16 27.2059 M571.16 9.54393 L578.614 9.54393 L578.614 18.9825 L571.16 18.9825 L571.16 9.54393 Z\" fill=\"#000000\" fill-rule=\"evenodd\" fill-opacity=\"1\" /><path clip-path=\"url(#clip340)\" d=\"M626.86 28.9478 L626.86 35.9153 Q623.7 34.1734 620.5 33.3227 Q617.34 32.4315 614.1 32.4315 Q606.849 32.4315 602.838 37.0496 Q598.828 41.6271 598.828 49.9314 Q598.828 58.2358 602.838 62.8538 Q606.849 67.4314 614.1 67.4314 Q617.34 67.4314 620.5 66.5807 Q623.7 65.6895 626.86 63.9476 L626.86 70.8341 Q623.741 72.2924 620.379 73.0216 Q617.057 73.7508 613.289 73.7508 Q603.041 73.7508 597.005 67.3098 Q590.969 60.8689 590.969 49.9314 Q590.969 38.832 597.045 32.472 Q603.162 26.1121 613.776 26.1121 Q617.219 26.1121 620.5 26.8413 Q623.781 27.5299 626.86 28.9478 Z\" fill=\"#000000\" fill-rule=\"evenodd\" fill-opacity=\"1\" /><path clip-path=\"url(#clip340)\" d=\"M666.113 34.1734 Q664.857 33.4443 663.359 33.1202 Q661.9 32.7556 660.118 32.7556 Q653.798 32.7556 650.396 36.8875 Q647.033 40.9789 647.033 48.6757 L647.033 72.576 L639.539 72.576 L639.539 27.2059 L647.033 27.2059 L647.033 34.2544 Q649.383 30.1225 653.15 28.1376 Q656.918 26.1121 662.305 26.1121 Q663.075 26.1121 664.007 26.2337 Q664.938 26.3147 666.073 26.5172 L666.113 34.1734 Z\" fill=\"#000000\" fill-rule=\"evenodd\" fill-opacity=\"1\" /><path clip-path=\"url(#clip340)\" d=\"M689.69 32.4315 Q683.694 32.4315 680.21 37.1306 Q676.727 41.7891 676.727 49.9314 Q676.727 58.0738 680.17 62.7728 Q683.654 67.4314 689.69 67.4314 Q695.644 67.4314 699.128 62.7323 Q702.612 58.0333 702.612 49.9314 Q702.612 41.8701 699.128 37.1711 Q695.644 32.4315 689.69 32.4315 M689.69 26.1121 Q699.412 26.1121 704.961 32.4315 Q710.511 38.7509 710.511 49.9314 Q710.511 61.0714 704.961 67.4314 Q699.412 73.7508 689.69 73.7508 Q679.927 73.7508 674.377 67.4314 Q668.868 61.0714 668.868 49.9314 Q668.868 38.7509 674.377 32.4315 Q679.927 26.1121 689.69 26.1121 Z\" fill=\"#000000\" fill-rule=\"evenodd\" fill-opacity=\"1\" /><path clip-path=\"url(#clip340)\" d=\"M720.638 46.5287 L742.473 46.5287 L742.473 53.1722 L720.638 53.1722 L720.638 46.5287 Z\" fill=\"#000000\" fill-rule=\"evenodd\" fill-opacity=\"1\" /><path clip-path=\"url(#clip340)\" d=\"M773.462 32.4315 Q767.467 32.4315 763.983 37.1306 Q760.499 41.7891 760.499 49.9314 Q760.499 58.0738 763.943 62.7728 Q767.426 67.4314 773.462 67.4314 Q779.417 67.4314 782.901 62.7323 Q786.385 58.0333 786.385 49.9314 Q786.385 41.8701 782.901 37.1711 Q779.417 32.4315 773.462 32.4315 M773.462 26.1121 Q783.184 26.1121 788.734 32.4315 Q794.284 38.7509 794.284 49.9314 Q794.284 61.0714 788.734 67.4314 Q783.184 73.7508 773.462 73.7508 Q763.7 73.7508 758.15 67.4314 Q752.641 61.0714 752.641 49.9314 Q752.641 38.7509 758.15 32.4315 Q763.7 26.1121 773.462 26.1121 Z\" fill=\"#000000\" fill-rule=\"evenodd\" fill-opacity=\"1\" /><path clip-path=\"url(#clip340)\" d=\"M813.85 65.7705 L813.85 89.8329 L806.356 89.8329 L806.356 27.2059 L813.85 27.2059 L813.85 34.0924 Q816.199 30.0415 819.764 28.0971 Q823.369 26.1121 828.352 26.1121 Q836.616 26.1121 841.76 32.6746 Q846.946 39.2371 846.946 49.9314 Q846.946 60.6258 841.76 67.1883 Q836.616 73.7508 828.352 73.7508 Q823.369 73.7508 819.764 71.8063 Q816.199 69.8214 813.85 65.7705 M839.208 49.9314 Q839.208 41.7081 835.806 37.0496 Q832.443 32.3505 826.529 32.3505 Q820.615 32.3505 817.212 37.0496 Q813.85 41.7081 813.85 49.9314 Q813.85 58.1548 817.212 62.8538 Q820.615 67.5124 826.529 67.5124 Q832.443 67.5124 835.806 62.8538 Q839.208 58.1548 839.208 49.9314 Z\" fill=\"#000000\" fill-rule=\"evenodd\" fill-opacity=\"1\" /><path clip-path=\"url(#clip340)\" d=\"M866.674 14.324 L866.674 27.2059 L882.026 27.2059 L882.026 32.9987 L866.674 32.9987 L866.674 57.6282 Q866.674 63.1779 868.172 64.7578 Q869.712 66.3376 874.37 66.3376 L882.026 66.3376 L882.026 72.576 L874.37 72.576 Q865.742 72.576 862.461 69.3758 Q859.179 66.1351 859.179 57.6282 L859.179 32.9987 L853.711 32.9987 L853.711 27.2059 L859.179 27.2059 L859.179 14.324 L866.674 14.324 Z\" fill=\"#000000\" fill-rule=\"evenodd\" fill-opacity=\"1\" /><path clip-path=\"url(#clip340)\" d=\"M891.83 27.2059 L899.283 27.2059 L899.283 72.576 L891.83 72.576 L891.83 27.2059 M891.83 9.54393 L899.283 9.54393 L899.283 18.9825 L891.83 18.9825 L891.83 9.54393 Z\" fill=\"#000000\" fill-rule=\"evenodd\" fill-opacity=\"1\" /><path clip-path=\"url(#clip340)\" d=\"M950.203 35.9153 Q952.998 30.8922 956.887 28.5022 Q960.776 26.1121 966.042 26.1121 Q973.131 26.1121 976.98 31.0947 Q980.828 36.0368 980.828 45.1919 L980.828 72.576 L973.334 72.576 L973.334 45.4349 Q973.334 38.913 971.025 35.7533 Q968.716 32.5936 963.976 32.5936 Q958.183 32.5936 954.821 36.4419 Q951.459 40.2903 951.459 46.9338 L951.459 72.576 L943.965 72.576 L943.965 45.4349 Q943.965 38.8725 941.656 35.7533 Q939.347 32.5936 934.526 32.5936 Q928.814 32.5936 925.452 36.4824 Q922.09 40.3308 922.09 46.9338 L922.09 72.576 L914.596 72.576 L914.596 27.2059 L922.09 27.2059 L922.09 34.2544 Q924.642 30.082 928.207 28.0971 Q931.772 26.1121 936.673 26.1121 Q941.615 26.1121 945.059 28.6237 Q948.542 31.1352 950.203 35.9153 Z\" fill=\"#000000\" fill-rule=\"evenodd\" fill-opacity=\"1\" /><path clip-path=\"url(#clip340)\" d=\"M995.695 27.2059 L1003.15 27.2059 L1003.15 72.576 L995.695 72.576 L995.695 27.2059 M995.695 9.54393 L1003.15 9.54393 L1003.15 18.9825 L995.695 18.9825 L995.695 9.54393 Z\" fill=\"#000000\" fill-rule=\"evenodd\" fill-opacity=\"1\" /><path clip-path=\"url(#clip340)\" d=\"M1015.5 27.2059 L1050.91 27.2059 L1050.91 34.0114 L1022.88 66.6212 L1050.91 66.6212 L1050.91 72.576 L1014.49 72.576 L1014.49 65.7705 L1042.52 33.1607 L1015.5 33.1607 L1015.5 27.2059 Z\" fill=\"#000000\" fill-rule=\"evenodd\" fill-opacity=\"1\" /><path clip-path=\"url(#clip340)\" d=\"M1082.91 49.7694 Q1073.88 49.7694 1070.39 51.8354 Q1066.91 53.9013 1066.91 58.8839 Q1066.91 62.8538 1069.5 65.2034 Q1072.14 67.5124 1076.63 67.5124 Q1082.83 67.5124 1086.56 63.1374 Q1090.32 58.7219 1090.32 51.4303 L1090.32 49.7694 L1082.91 49.7694 M1097.78 46.6907 L1097.78 72.576 L1090.32 72.576 L1090.32 65.6895 Q1087.77 69.8214 1083.96 71.8063 Q1080.16 73.7508 1074.65 73.7508 Q1067.68 73.7508 1063.55 69.8619 Q1059.46 65.9325 1059.46 59.3701 Q1059.46 51.7138 1064.56 47.825 Q1069.7 43.9361 1079.87 43.9361 L1090.32 43.9361 L1090.32 43.2069 Q1090.32 38.0623 1086.92 35.2672 Q1083.56 32.4315 1077.44 32.4315 Q1073.55 32.4315 1069.87 33.3632 Q1066.18 34.295 1062.78 36.1584 L1062.78 29.2718 Q1066.87 27.692 1070.72 26.9223 Q1074.57 26.1121 1078.21 26.1121 Q1088.06 26.1121 1092.92 31.2163 Q1097.78 36.3204 1097.78 46.6907 Z\" fill=\"#000000\" fill-rule=\"evenodd\" fill-opacity=\"1\" /><path clip-path=\"url(#clip340)\" d=\"M1120.5 14.324 L1120.5 27.2059 L1135.86 27.2059 L1135.86 32.9987 L1120.5 32.9987 L1120.5 57.6282 Q1120.5 63.1779 1122 64.7578 Q1123.54 66.3376 1128.2 66.3376 L1135.86 66.3376 L1135.86 72.576 L1128.2 72.576 Q1119.57 72.576 1116.29 69.3758 Q1113.01 66.1351 1113.01 57.6282 L1113.01 32.9987 L1107.54 32.9987 L1107.54 27.2059 L1113.01 27.2059 L1113.01 14.324 L1120.5 14.324 Z\" fill=\"#000000\" fill-rule=\"evenodd\" fill-opacity=\"1\" /><path clip-path=\"url(#clip340)\" d=\"M1145.66 27.2059 L1153.11 27.2059 L1153.11 72.576 L1145.66 72.576 L1145.66 27.2059 M1145.66 9.54393 L1153.11 9.54393 L1153.11 18.9825 L1145.66 18.9825 L1145.66 9.54393 Z\" fill=\"#000000\" fill-rule=\"evenodd\" fill-opacity=\"1\" /><path clip-path=\"url(#clip340)\" d=\"M1186.29 32.4315 Q1180.29 32.4315 1176.81 37.1306 Q1173.33 41.7891 1173.33 49.9314 Q1173.33 58.0738 1176.77 62.7728 Q1180.25 67.4314 1186.29 67.4314 Q1192.24 67.4314 1195.73 62.7323 Q1199.21 58.0333 1199.21 49.9314 Q1199.21 41.8701 1195.73 37.1711 Q1192.24 32.4315 1186.29 32.4315 M1186.29 26.1121 Q1196.01 26.1121 1201.56 32.4315 Q1207.11 38.7509 1207.11 49.9314 Q1207.11 61.0714 1201.56 67.4314 Q1196.01 73.7508 1186.29 73.7508 Q1176.53 73.7508 1170.98 67.4314 Q1165.47 61.0714 1165.47 49.9314 Q1165.47 38.7509 1170.98 32.4315 Q1176.53 26.1121 1186.29 26.1121 Z\" fill=\"#000000\" fill-rule=\"evenodd\" fill-opacity=\"1\" /><path clip-path=\"url(#clip340)\" d=\"M1257.18 45.1919 L1257.18 72.576 L1249.73 72.576 L1249.73 45.4349 Q1249.73 38.994 1247.22 35.7938 Q1244.7 32.5936 1239.68 32.5936 Q1233.64 32.5936 1230.16 36.4419 Q1226.68 40.2903 1226.68 46.9338 L1226.68 72.576 L1219.18 72.576 L1219.18 27.2059 L1226.68 27.2059 L1226.68 34.2544 Q1229.35 30.163 1232.96 28.1376 Q1236.6 26.1121 1241.34 26.1121 Q1249.16 26.1121 1253.17 30.9732 Q1257.18 35.7938 1257.18 45.1919 Z\" fill=\"#000000\" fill-rule=\"evenodd\" fill-opacity=\"1\" /><path clip-path=\"url(#clip340)\" d=\"M1300.97 28.5427 L1300.97 35.5912 Q1297.81 33.9709 1294.41 33.1607 Q1291.01 32.3505 1287.36 32.3505 Q1281.81 32.3505 1279.02 34.0519 Q1276.26 35.7533 1276.26 39.156 Q1276.26 41.7486 1278.25 43.2475 Q1280.23 44.7058 1286.23 46.0426 L1288.78 46.6097 Q1296.72 48.3111 1300.04 51.4303 Q1303.4 54.509 1303.4 60.0587 Q1303.4 66.3781 1298.38 70.0644 Q1293.4 73.7508 1284.65 73.7508 Q1281 73.7508 1277.03 73.0216 Q1273.1 72.3329 1268.73 70.9151 L1268.73 63.2184 Q1272.86 65.3654 1276.87 66.4591 Q1280.88 67.5124 1284.81 67.5124 Q1290.07 67.5124 1292.91 65.73 Q1295.75 63.9071 1295.75 60.6258 Q1295.75 57.5877 1293.68 55.9673 Q1291.65 54.3469 1284.73 52.8481 L1282.13 52.2405 Q1275.21 50.7821 1272.13 47.7845 Q1269.05 44.7463 1269.05 39.4801 Q1269.05 33.0797 1273.59 29.5959 Q1278.12 26.1121 1286.47 26.1121 Q1290.6 26.1121 1294.25 26.7198 Q1297.89 27.3274 1300.97 28.5427 Z\" fill=\"#000000\" fill-rule=\"evenodd\" fill-opacity=\"1\" /><path clip-path=\"url(#clip340)\" d=\"M1376.97 35.9153 Q1379.76 30.8922 1383.65 28.5022 Q1387.54 26.1121 1392.8 26.1121 Q1399.89 26.1121 1403.74 31.0947 Q1407.59 36.0368 1407.59 45.1919 L1407.59 72.576 L1400.1 72.576 L1400.1 45.4349 Q1400.1 38.913 1397.79 35.7533 Q1395.48 32.5936 1390.74 32.5936 Q1384.95 32.5936 1381.58 36.4419 Q1378.22 40.2903 1378.22 46.9338 L1378.22 72.576 L1370.73 72.576 L1370.73 45.4349 Q1370.73 38.8725 1368.42 35.7533 Q1366.11 32.5936 1361.29 32.5936 Q1355.58 32.5936 1352.21 36.4824 Q1348.85 40.3308 1348.85 46.9338 L1348.85 72.576 L1341.36 72.576 L1341.36 27.2059 L1348.85 27.2059 L1348.85 34.2544 Q1351.4 30.082 1354.97 28.0971 Q1358.53 26.1121 1363.44 26.1121 Q1368.38 26.1121 1371.82 28.6237 Q1375.31 31.1352 1376.97 35.9153 Z\" fill=\"#000000\" fill-rule=\"evenodd\" fill-opacity=\"1\" /><path clip-path=\"url(#clip340)\" d=\"M1443.08 49.7694 Q1434.04 49.7694 1430.56 51.8354 Q1427.08 53.9013 1427.08 58.8839 Q1427.08 62.8538 1429.67 65.2034 Q1432.3 67.5124 1436.8 67.5124 Q1443 67.5124 1446.72 63.1374 Q1450.49 58.7219 1450.49 51.4303 L1450.49 49.7694 L1443.08 49.7694 M1457.94 46.6907 L1457.94 72.576 L1450.49 72.576 L1450.49 65.6895 Q1447.94 69.8214 1444.13 71.8063 Q1440.32 73.7508 1434.81 73.7508 Q1427.85 73.7508 1423.71 69.8619 Q1419.62 65.9325 1419.62 59.3701 Q1419.62 51.7138 1424.73 47.825 Q1429.87 43.9361 1440.04 43.9361 L1450.49 43.9361 L1450.49 43.2069 Q1450.49 38.0623 1447.09 35.2672 Q1443.72 32.4315 1437.61 32.4315 Q1433.72 32.4315 1430.03 33.3632 Q1426.35 34.295 1422.94 36.1584 L1422.94 29.2718 Q1427.04 27.692 1430.88 26.9223 Q1434.73 26.1121 1438.38 26.1121 Q1448.22 26.1121 1453.08 31.2163 Q1457.94 36.3204 1457.94 46.6907 Z\" fill=\"#000000\" fill-rule=\"evenodd\" fill-opacity=\"1\" /><path clip-path=\"url(#clip340)\" d=\"M1480.67 14.324 L1480.67 27.2059 L1496.02 27.2059 L1496.02 32.9987 L1480.67 32.9987 L1480.67 57.6282 Q1480.67 63.1779 1482.17 64.7578 Q1483.71 66.3376 1488.37 66.3376 L1496.02 66.3376 L1496.02 72.576 L1488.37 72.576 Q1479.74 72.576 1476.46 69.3758 Q1473.17 66.1351 1473.17 57.6282 L1473.17 32.9987 L1467.71 32.9987 L1467.71 27.2059 L1473.17 27.2059 L1473.17 14.324 L1480.67 14.324 Z\" fill=\"#000000\" fill-rule=\"evenodd\" fill-opacity=\"1\" /><path clip-path=\"url(#clip340)\" d=\"M1513.2 14.324 L1513.2 27.2059 L1528.55 27.2059 L1528.55 32.9987 L1513.2 32.9987 L1513.2 57.6282 Q1513.2 63.1779 1514.7 64.7578 Q1516.24 66.3376 1520.89 66.3376 L1528.55 66.3376 L1528.55 72.576 L1520.89 72.576 Q1512.27 72.576 1508.98 69.3758 Q1505.7 66.1351 1505.7 57.6282 L1505.7 32.9987 L1500.23 32.9987 L1500.23 27.2059 L1505.7 27.2059 L1505.7 14.324 L1513.2 14.324 Z\" fill=\"#000000\" fill-rule=\"evenodd\" fill-opacity=\"1\" /><path clip-path=\"url(#clip340)\" d=\"M1577.16 48.0275 L1577.16 51.6733 L1542.89 51.6733 Q1543.38 59.3701 1547.51 63.421 Q1551.68 67.4314 1559.09 67.4314 Q1563.39 67.4314 1567.4 66.3781 Q1571.45 65.3249 1575.42 63.2184 L1575.42 70.267 Q1571.41 71.9684 1567.2 72.8596 Q1562.98 73.7508 1558.65 73.7508 Q1547.79 73.7508 1541.43 67.4314 Q1535.11 61.1119 1535.11 50.3365 Q1535.11 39.1965 1541.11 32.6746 Q1547.14 26.1121 1557.35 26.1121 Q1566.51 26.1121 1571.81 32.0264 Q1577.16 37.9003 1577.16 48.0275 M1569.71 45.84 Q1569.63 39.7232 1566.26 36.0774 Q1562.94 32.4315 1557.43 32.4315 Q1551.2 32.4315 1547.43 35.9558 Q1543.7 39.4801 1543.13 45.8805 L1569.71 45.84 Z\" fill=\"#000000\" fill-rule=\"evenodd\" fill-opacity=\"1\" /><path clip-path=\"url(#clip340)\" d=\"M1615.69 34.1734 Q1614.43 33.4443 1612.93 33.1202 Q1611.47 32.7556 1609.69 32.7556 Q1603.37 32.7556 1599.97 36.8875 Q1596.61 40.9789 1596.61 48.6757 L1596.61 72.576 L1589.11 72.576 L1589.11 27.2059 L1596.61 27.2059 L1596.61 34.2544 Q1598.96 30.1225 1602.72 28.1376 Q1606.49 26.1121 1611.88 26.1121 Q1612.65 26.1121 1613.58 26.2337 Q1614.51 26.3147 1615.65 26.5172 L1615.69 34.1734 Z\" fill=\"#000000\" fill-rule=\"evenodd\" fill-opacity=\"1\" /><path clip-path=\"url(#clip340)\" d=\"M1672.84 9.54393 L1672.84 15.7418 L1665.71 15.7418 Q1661.7 15.7418 1660.12 17.3622 Q1658.58 18.9825 1658.58 23.1955 L1658.58 27.2059 L1670.86 27.2059 L1670.86 32.9987 L1658.58 32.9987 L1658.58 72.576 L1651.09 72.576 L1651.09 32.9987 L1643.96 32.9987 L1643.96 27.2059 L1651.09 27.2059 L1651.09 24.0462 Q1651.09 16.471 1654.61 13.0277 Q1658.14 9.54393 1665.8 9.54393 L1672.84 9.54393 Z\" fill=\"#000000\" fill-rule=\"evenodd\" fill-opacity=\"1\" /><path clip-path=\"url(#clip340)\" d=\"M1696.66 32.4315 Q1690.67 32.4315 1687.18 37.1306 Q1683.7 41.7891 1683.7 49.9314 Q1683.7 58.0738 1687.14 62.7728 Q1690.63 67.4314 1696.66 67.4314 Q1702.62 67.4314 1706.1 62.7323 Q1709.59 58.0333 1709.59 49.9314 Q1709.59 41.8701 1706.1 37.1711 Q1702.62 32.4315 1696.66 32.4315 M1696.66 26.1121 Q1706.39 26.1121 1711.94 32.4315 Q1717.48 38.7509 1717.48 49.9314 Q1717.48 61.0714 1711.94 67.4314 Q1706.39 73.7508 1696.66 73.7508 Q1686.9 73.7508 1681.35 67.4314 Q1675.84 61.0714 1675.84 49.9314 Q1675.84 38.7509 1681.35 32.4315 Q1686.9 26.1121 1696.66 26.1121 Z\" fill=\"#000000\" fill-rule=\"evenodd\" fill-opacity=\"1\" /><path clip-path=\"url(#clip340)\" d=\"M1756.13 34.1734 Q1754.87 33.4443 1753.38 33.1202 Q1751.92 32.7556 1750.14 32.7556 Q1743.82 32.7556 1740.41 36.8875 Q1737.05 40.9789 1737.05 48.6757 L1737.05 72.576 L1729.56 72.576 L1729.56 27.2059 L1737.05 27.2059 L1737.05 34.2544 Q1739.4 30.1225 1743.17 28.1376 Q1746.93 26.1121 1752.32 26.1121 Q1753.09 26.1121 1754.02 26.2337 Q1754.96 26.3147 1756.09 26.5172 L1756.13 34.1734 Z\" fill=\"#000000\" fill-rule=\"evenodd\" fill-opacity=\"1\" /><path clip-path=\"url(#clip340)\" d=\"M1798.83 43.6931 L1798.83 65.8515 L1811.95 65.8515 Q1818.55 65.8515 1821.71 63.1374 Q1824.91 60.3828 1824.91 54.752 Q1824.91 49.0808 1821.71 46.4072 Q1818.55 43.6931 1811.95 43.6931 L1798.83 43.6931 M1798.83 18.8205 L1798.83 37.0496 L1810.94 37.0496 Q1816.93 37.0496 1819.85 34.8216 Q1822.81 32.5531 1822.81 27.935 Q1822.81 23.3575 1819.85 21.089 Q1816.93 18.8205 1810.94 18.8205 L1798.83 18.8205 M1790.64 12.096 L1811.55 12.096 Q1820.9 12.096 1825.97 15.9849 Q1831.03 19.8737 1831.03 27.0438 Q1831.03 32.5936 1828.44 35.8748 Q1825.85 39.156 1820.82 39.9662 Q1826.86 41.2625 1830.18 45.3944 Q1833.54 49.4858 1833.54 55.6432 Q1833.54 63.745 1828.03 68.1605 Q1822.52 72.576 1812.36 72.576 L1790.64 72.576 L1790.64 12.096 Z\" fill=\"#000000\" fill-rule=\"evenodd\" fill-opacity=\"1\" /><path clip-path=\"url(#clip340)\" d=\"M1847.56 12.096 L1855.74 12.096 L1855.74 65.6895 L1885.19 65.6895 L1885.19 72.576 L1847.56 72.576 L1847.56 12.096 Z\" fill=\"#000000\" fill-rule=\"evenodd\" fill-opacity=\"1\" /><path clip-path=\"url(#clip340)\" d=\"M1915.9 20.1573 L1904.8 50.2555 L1927.04 50.2555 L1915.9 20.1573 M1911.28 12.096 L1920.56 12.096 L1943.61 72.576 L1935.1 72.576 L1929.59 57.061 L1902.33 57.061 L1896.82 72.576 L1888.19 72.576 L1911.28 12.096 Z\" fill=\"#000000\" fill-rule=\"evenodd\" fill-opacity=\"1\" /><path clip-path=\"url(#clip340)\" d=\"M1988.69 14.0809 L1988.69 22.0612 Q1984.03 19.8332 1979.9 18.7395 Q1975.77 17.6457 1971.92 17.6457 Q1965.24 17.6457 1961.59 20.2383 Q1957.99 22.8309 1957.99 27.611 Q1957.99 31.6214 1960.38 33.6873 Q1962.81 35.7128 1969.53 36.9686 L1974.47 37.9813 Q1983.63 39.7232 1987.96 44.1387 Q1992.34 48.5136 1992.34 55.8863 Q1992.34 64.6767 1986.42 69.2137 Q1980.55 73.7508 1969.17 73.7508 Q1964.87 73.7508 1960.01 72.7785 Q1955.19 71.8063 1950.01 69.9024 L1950.01 61.4765 Q1954.99 64.2716 1959.77 65.6895 Q1964.55 67.1073 1969.17 67.1073 Q1976.18 67.1073 1979.98 64.3527 Q1983.79 61.598 1983.79 56.4939 Q1983.79 52.0379 1981.04 49.5264 Q1978.32 47.0148 1972.08 45.759 L1967.1 44.7868 Q1957.95 42.9639 1953.86 39.075 Q1949.76 35.1862 1949.76 28.2591 Q1949.76 20.2383 1955.39 15.6203 Q1961.07 11.0023 1970.99 11.0023 Q1975.24 11.0023 1979.66 11.7719 Q1984.07 12.5416 1988.69 14.0809 Z\" fill=\"#000000\" fill-rule=\"evenodd\" fill-opacity=\"1\" /><path clip-path=\"url(#clip340)\" d=\"M2007.25 65.6895 L2020.61 65.6895 L2020.61 19.5497 L2006.07 22.4663 L2006.07 15.0127 L2020.53 12.096 L2028.72 12.096 L2028.72 65.6895 L2042.08 65.6895 L2042.08 72.576 L2007.25 72.576 L2007.25 65.6895 Z\" fill=\"#000000\" fill-rule=\"evenodd\" fill-opacity=\"1\" /><polyline clip-path=\"url(#clip342)\" style=\"stroke:#009af9; stroke-linecap:round; stroke-linejoin:round; stroke-width:4; stroke-opacity:1; fill:none\" points=\"\n",
       "  250.464,1363.94 477.249,1310.86 704.033,1144.65 930.818,1050.61 1157.6,949.965 1384.39,822.975 1611.17,656.847 1837.96,461.783 2064.74,308.287 2291.52,161.699 \n",
       "  \n",
       "  \"/>\n",
       "<polyline clip-path=\"url(#clip342)\" style=\"stroke:#e26f46; stroke-linecap:round; stroke-linejoin:round; stroke-width:4; stroke-opacity:1; fill:none\" points=\"\n",
       "  250.464,1435.94 477.249,1349.43 704.033,1314.81 930.818,1231.09 1157.6,1053.04 1384.39,942.687 1611.17,729.039 1837.96,581.692 2064.74,343.338 2291.52,179.875 \n",
       "  \n",
       "  \"/>\n",
       "<path clip-path=\"url(#clip340)\" d=\"\n",
       "M2019.59 1429.14 L2280.64 1429.14 L2280.64 1273.62 L2019.59 1273.62  Z\n",
       "  \" fill=\"#ffffff\" fill-rule=\"evenodd\" fill-opacity=\"1\"/>\n",
       "<polyline clip-path=\"url(#clip340)\" style=\"stroke:#000000; stroke-linecap:round; stroke-linejoin:round; stroke-width:4; stroke-opacity:1; fill:none\" points=\"\n",
       "  2019.59,1429.14 2280.64,1429.14 2280.64,1273.62 2019.59,1273.62 2019.59,1429.14 \n",
       "  \"/>\n",
       "<polyline clip-path=\"url(#clip340)\" style=\"stroke:#009af9; stroke-linecap:round; stroke-linejoin:round; stroke-width:4; stroke-opacity:1; fill:none\" points=\"\n",
       "  2043.63,1325.46 2187.86,1325.46 \n",
       "  \"/>\n",
       "<path clip-path=\"url(#clip340)\" d=\"M2211.9 1321.21 L2241.58 1321.21 L2241.58 1325.1 L2211.9 1325.1 L2211.9 1321.21 M2211.9 1330.66 L2241.58 1330.66 L2241.58 1334.59 L2211.9 1334.59 L2211.9 1330.66 Z\" fill=\"#000000\" fill-rule=\"evenodd\" fill-opacity=\"1\" /><polyline clip-path=\"url(#clip340)\" style=\"stroke:#e26f46; stroke-linecap:round; stroke-linejoin:round; stroke-width:4; stroke-opacity:1; fill:none\" points=\"\n",
       "  2043.63,1377.3 2187.86,1377.3 \n",
       "  \"/>\n",
       "<path clip-path=\"url(#clip340)\" d=\"M2211.9 1388.7 L2216.78 1388.7 L2216.78 1394.58 L2211.9 1394.58 L2211.9 1388.7 Z\" fill=\"#000000\" fill-rule=\"evenodd\" fill-opacity=\"1\" /><path clip-path=\"url(#clip340)\" d=\"M2226.92 1373.05 L2256.6 1373.05 L2256.6 1376.94 L2226.92 1376.94 L2226.92 1373.05 M2226.92 1382.5 L2256.6 1382.5 L2256.6 1386.43 L2226.92 1386.43 L2226.92 1382.5 Z\" fill=\"#000000\" fill-rule=\"evenodd\" fill-opacity=\"1\" /></svg>\n"
      ]
     },
     "metadata": {},
     "output_type": "display_data"
    }
   ],
   "source": [
    "using LinearAlgebra, BenchmarkTools\n",
    "function alloc_timer(n)\n",
    "    A = rand(n,n)\n",
    "    B = rand(n,n)\n",
    "    C = rand(n,n)\n",
    "    t1 = @belapsed $A .* $B\n",
    "    t2 = @belapsed ($C .= $A .* $B) #does have heap allocation I think\n",
    "    t1,t2\n",
    "end\n",
    "ns = 2 .^ (2:11)\n",
    "res = [alloc_timer(n) for n in ns]\n",
    "alloc   = [x[1] for x in res]\n",
    "noalloc = [x[2] for x in res]\n",
    "\n",
    "using Plots\n",
    "plot(ns,alloc,label=\"=\",xscale=:log10,yscale=:log10,legend=:bottomright,\n",
    "     title=\"Micro-optimizations matter for BLAS1\")\n",
    "plot!(ns,noalloc,label=\".=\")"
   ]
  },
  {
   "cell_type": "markdown",
   "metadata": {},
   "source": [
    "### summmary\n",
    "copy-paste\n",
    "- Avoid cache misses by reusing values\n",
    "- Iterate along columns\n",
    "- Avoid heap allocations in inner loops\n",
    "- Heap allocations occur when the size of things is not proven at compile-time\n",
    "- Use fused broadcasts (with mutated outputs) to avoid heap allocations\n",
    "- Array vectorization confers no special benefit in Julia because Julia loops are as fast as C or Fortran\n",
    "- Use views instead of slices when applicable\n",
    "- Avoiding heap allocations is most necessary for O(n) algorithms or algorithms with small arrays\n",
    "- Use StaticArrays.jl to avoid heap allocations of small arrays in inner loops\n",
    "\n",
    "## Julia's type inference and the compiler\n",
    "Julia = JIT compiled. Wiki on jit compilation: *In computing, just-in-time (JIT) compilation (also dynamic translation or run-time compilations)[1] is compilation (of computer code) during execution of a program (at run time) rather than before execution*\n",
    "\n",
    "2 reasons Julia is fast (covered below)\n",
    "\n",
    "### 1: Type inference\n",
    "At the core, everything has a type! \n",
    "- C: programmer has to declare the type\n",
    "- Python: check the type at runtime -> overhead! variables are NOT stack-allocated, as there is no guarantee on the size!\n",
    "- Julia: check the types BEFORE runtime! \n",
    "\n",
    "LLVM = Julia compiler https://en.wikipedia.org/wiki/LLVM\n",
    "\n",
    "### 2: Type specializations in functions\n",
    "no types provided -> generic function! but this is NOT a single function, as the function depends on the type!"
   ]
  },
  {
   "cell_type": "code",
   "execution_count": 136,
   "metadata": {},
   "outputs": [
    {
     "data": {
      "text/plain": [
       "f (generic function with 2 methods)"
      ]
     },
     "metadata": {},
     "output_type": "display_data"
    }
   ],
   "source": [
    "f(x,y) = x + y"
   ]
  },
  {
   "cell_type": "code",
   "execution_count": 137,
   "metadata": {},
   "outputs": [
    {
     "name": "stdout",
     "output_type": "stream",
     "text": [
      "\u001b[90m;  @ c:\\Users\\olivi\\Documents\\SciMLBook\\own_notebooks\\02_optimising_serial_code.ipynb:1 within `f`\u001b[39m\n",
      "\u001b[90m; Function Attrs: uwtable\u001b[39m\n",
      "\u001b[95mdefine\u001b[39m \u001b[36mi64\u001b[39m \u001b[93m@julia_f_7431\u001b[39m\u001b[33m(\u001b[39m\u001b[36mi64\u001b[39m \u001b[95msignext\u001b[39m \u001b[0m%0\u001b[0m, \u001b[36mi64\u001b[39m \u001b[95msignext\u001b[39m \u001b[0m%1\u001b[33m)\u001b[39m \u001b[0m#0 \u001b[33m{\u001b[39m\n",
      "\u001b[91mtop:\u001b[39m\n",
      "\u001b[90m; ┌ @ int.jl:87 within `+`\u001b[39m\n",
      "   \u001b[0m%2 \u001b[0m= \u001b[96m\u001b[1madd\u001b[22m\u001b[39m \u001b[36mi64\u001b[39m \u001b[0m%1\u001b[0m, \u001b[0m%0\n",
      "\u001b[90m; └\u001b[39m\n",
      "  \u001b[96m\u001b[1mret\u001b[22m\u001b[39m \u001b[36mi64\u001b[39m \u001b[0m%2\n",
      "\u001b[33m}\u001b[39m\n"
     ]
    }
   ],
   "source": [
    "using InteractiveUtils\n",
    "@code_llvm f(2,5)"
   ]
  },
  {
   "cell_type": "markdown",
   "metadata": {},
   "source": [
    "So here ints are used!"
   ]
  },
  {
   "cell_type": "code",
   "execution_count": 138,
   "metadata": {},
   "outputs": [
    {
     "name": "stdout",
     "output_type": "stream",
     "text": [
      "\u001b[90m;  @ c:\\Users\\olivi\\Documents\\SciMLBook\\own_notebooks\\02_optimising_serial_code.ipynb:1 within `f`\u001b[39m\n",
      "\u001b[90m; Function Attrs: uwtable\u001b[39m\n",
      "\u001b[95mdefine\u001b[39m \u001b[36mdouble\u001b[39m \u001b[93m@julia_f_7433\u001b[39m\u001b[33m(\u001b[39m\u001b[36mdouble\u001b[39m \u001b[0m%0\u001b[0m, \u001b[36mdouble\u001b[39m \u001b[0m%1\u001b[33m)\u001b[39m \u001b[0m#0 \u001b[33m{\u001b[39m\n",
      "\u001b[91mtop:\u001b[39m\n",
      "\u001b[90m; ┌ @ float.jl:383 within `+`\u001b[39m\n",
      "   \u001b[0m%2 \u001b[0m= \u001b[96m\u001b[1mfadd\u001b[22m\u001b[39m \u001b[36mdouble\u001b[39m \u001b[0m%0\u001b[0m, \u001b[0m%1\n",
      "\u001b[90m; └\u001b[39m\n",
      "  \u001b[96m\u001b[1mret\u001b[22m\u001b[39m \u001b[36mdouble\u001b[39m \u001b[0m%2\n",
      "\u001b[33m}\u001b[39m\n"
     ]
    }
   ],
   "source": [
    "@code_llvm f(2.0,5.0)"
   ]
  },
  {
   "cell_type": "markdown",
   "metadata": {},
   "source": [
    "While here doubles are used! This is possible because many methods are defined for the plus operator (404 as of now)"
   ]
  },
  {
   "cell_type": "code",
   "execution_count": 139,
   "metadata": {},
   "outputs": [
    {
     "name": "stdout",
     "output_type": "stream",
     "text": [
      "404"
     ]
    }
   ],
   "source": [
    "mehtods_list = methods(+)\n",
    "print(length(mehtods_list))\n"
   ]
  },
  {
   "cell_type": "code",
   "execution_count": 140,
   "metadata": {},
   "outputs": [
    {
     "name": "stdout",
     "output_type": "stream",
     "text": [
      "MethodInstance for f(::Int64, ::Int64)\n",
      "  from f(x, y) in Main at c:\\Users\\olivi\\Documents\\SciMLBook\\own_notebooks\\02_optimising_serial_code.ipynb:1\n",
      "Arguments\n",
      "  #self#\u001b[36m::Core.Const(f)\u001b[39m\n",
      "  x\u001b[36m::Int64\u001b[39m\n",
      "  y\u001b[36m::Int64\u001b[39m\n",
      "Body\u001b[36m::Int64\u001b[39m\n",
      "\u001b[90m1 ─\u001b[39m %1 = (x + y)\u001b[36m::Int64\u001b[39m\n",
      "\u001b[90m└──\u001b[39m      return %1\n",
      "\n"
     ]
    }
   ],
   "source": [
    "@code_warntype f(2,5)"
   ]
  },
  {
   "cell_type": "code",
   "execution_count": 141,
   "metadata": {},
   "outputs": [
    {
     "name": "stdout",
     "output_type": "stream",
     "text": [
      "MethodInstance for f(::Float64, ::Int64)\n",
      "  from f(x, y) in Main at c:\\Users\\olivi\\Documents\\SciMLBook\\own_notebooks\\02_optimising_serial_code.ipynb:1\n",
      "Arguments\n",
      "  #self#\u001b[36m::Core.Const(f)\u001b[39m\n",
      "  x\u001b[36m::Float64\u001b[39m\n",
      "  y\u001b[36m::Int64\u001b[39m\n",
      "Body\u001b[36m::Float64\u001b[39m\n",
      "\u001b[90m1 ─\u001b[39m %1 = (x + y)\u001b[36m::Float64\u001b[39m\n",
      "\u001b[90m└──\u001b[39m      return %1\n",
      "\n"
     ]
    }
   ],
   "source": [
    "@code_warntype f(2.0,5)"
   ]
  },
  {
   "cell_type": "markdown",
   "metadata": {},
   "source": [
    "Now int is promoted to float64!"
   ]
  },
  {
   "cell_type": "markdown",
   "metadata": {},
   "source": [
    "### type stability\n",
    "Respected in above cases. It means that the outcome is known at compile time! so int + float -> ALWAYS float!"
   ]
  },
  {
   "cell_type": "code",
   "execution_count": 142,
   "metadata": {},
   "outputs": [
    {
     "data": {
      "text/plain": [
       "h (generic function with 1 method)"
      ]
     },
     "metadata": {},
     "output_type": "display_data"
    }
   ],
   "source": [
    "function h(x,y)\n",
    "    out = x + y\n",
    "    rand() < 0.5 ? out : Float64(out)\n",
    "  end"
   ]
  },
  {
   "cell_type": "markdown",
   "metadata": {},
   "source": [
    "NOT type stable, as the output depends on this random value!"
   ]
  },
  {
   "cell_type": "code",
   "execution_count": 143,
   "metadata": {},
   "outputs": [
    {
     "name": "stdout",
     "output_type": "stream",
     "text": [
      "MethodInstance for h(::Int64, ::Int64)\n",
      "  from h(x, y) in Main at c:\\Users\\olivi\\Documents\\SciMLBook\\own_notebooks\\02_optimising_serial_code.ipynb:1\n",
      "Arguments\n",
      "  #self#\u001b[36m::Core.Const(h)\u001b[39m\n",
      "  x\u001b[36m::Int64\u001b[39m\n",
      "  y\u001b[36m::Int64\u001b[39m\n",
      "Locals\n",
      "  out\u001b[36m::Int64\u001b[39m\n",
      "Body\u001b[91m\u001b[1m::Union{Float64, Int64}\u001b[22m\u001b[39m\n",
      "\u001b[90m1 ─\u001b[39m      (out = x + y)\n",
      "\u001b[90m│  \u001b[39m %2 = Main.rand()\u001b[36m::Float64\u001b[39m\n",
      "\u001b[90m│  \u001b[39m %3 = (%2 < 0.5)\u001b[36m::Bool\u001b[39m\n",
      "\u001b[90m└──\u001b[39m      goto #3 if not %3\n",
      "\u001b[90m2 ─\u001b[39m      return out\n",
      "\u001b[90m3 ─\u001b[39m %6 = Main.Float64(out)\u001b[36m::Float64\u001b[39m\n",
      "\u001b[90m└──\u001b[39m      return %6\n",
      "\n"
     ]
    }
   ],
   "source": [
    "@code_warntype h(2,5)"
   ]
  },
  {
   "cell_type": "markdown",
   "metadata": {},
   "source": [
    "### multiple dispatch\n",
    "you can tell a function how to act differently DEPENDING on the input type :)"
   ]
  },
  {
   "cell_type": "code",
   "execution_count": 144,
   "metadata": {},
   "outputs": [
    {
     "name": "stdout",
     "output_type": "stream",
     "text": [
      "ff(2, 5) = 9\n",
      "ff(2.0, 5.0) = 0.4\n"
     ]
    },
    {
     "data": {
      "text/plain": [
       "0.4"
      ]
     },
     "metadata": {},
     "output_type": "display_data"
    }
   ],
   "source": [
    "ff(x::Int,y::Int) = 2x + y\n",
    "ff(x::Float64,y::Float64) = x/y\n",
    "@show ff(2,5)\n",
    "@show ff(2.0,5.0)"
   ]
  },
  {
   "cell_type": "code",
   "execution_count": 145,
   "metadata": {},
   "outputs": [
    {
     "data": {
      "text/html": [
       "# 2 methods for generic function <b>ff</b>:<ul><li> ff(x::<b>Int64</b>, y::<b>Int64</b>) in Main at <a href=\"https://github.com/olivierbonte/SciMLBook/tree/297ad6c7c70ce9eed1436bd5e54ff70747a068ff//own_notebooks/02_optimising_serial_code.ipynb#L1\" target=\"_blank\">c:\\Users\\olivi\\Documents\\SciMLBook\\own_notebooks\\02_optimising_serial_code.ipynb:1</a></li> <li> ff(x::<b>Float64</b>, y::<b>Float64</b>) in Main at <a href=\"https://github.com/olivierbonte/SciMLBook/tree/297ad6c7c70ce9eed1436bd5e54ff70747a068ff//own_notebooks/02_optimising_serial_code.ipynb#L2\" target=\"_blank\">c:\\Users\\olivi\\Documents\\SciMLBook\\own_notebooks\\02_optimising_serial_code.ipynb:2</a></li> </ul>"
      ],
      "text/plain": [
       "# 2 methods for generic function \"ff\":\n",
       "[1] ff(x::Int64, y::Int64) in Main at c:\\Users\\olivi\\Documents\\SciMLBook\\own_notebooks\\02_optimising_serial_code.ipynb:1\n",
       "[2] ff(x::Float64, y::Float64) in Main at c:\\Users\\olivi\\Documents\\SciMLBook\\own_notebooks\\02_optimising_serial_code.ipynb:2"
      ]
     },
     "metadata": {},
     "output_type": "display_data"
    }
   ],
   "source": [
    "methods(ff)"
   ]
  },
  {
   "attachments": {
    "image.png": {
     "image/png": "[encoded data removed]"
    }
   },
   "cell_type": "markdown",
   "metadata": {},
   "source": [
    "Abstract types in julia:\n",
    "\n",
    "![image.png](attachment:image.png)\n",
    "\n",
    "If no method exists for your input types -> MethodError!.\n",
    "\n",
    "KEY: if types are known, the code is optimised!\n",
    "\n",
    "### any fallabcks\n",
    "Any = the maximal supertype! it falls back to all possible input values!\n",
    "\n",
    "### ambiguities\n",
    "\n",
    "avoid this! means that multiple methods are 'most strict' for your inputs\n",
    "\n",
    "### untyped containers\n",
    "\n",
    "type inference is RUINED with untyped containers"
   ]
  },
  {
   "cell_type": "code",
   "execution_count": 146,
   "metadata": {},
   "outputs": [
    {
     "data": {
      "text/plain": [
       "3-element Vector{Float64}:\n",
       " 1.0\n",
       " 2.0\n",
       " 3.0"
      ]
     },
     "metadata": {},
     "output_type": "display_data"
    }
   ],
   "source": [
    "a = [1.0, 2.0,3.0]"
   ]
  },
  {
   "cell_type": "markdown",
   "metadata": {},
   "source": [
    "this is a typed container!"
   ]
  },
  {
   "cell_type": "code",
   "execution_count": 147,
   "metadata": {},
   "outputs": [
    {
     "data": {
      "text/plain": [
       "3-element Vector{Any}:\n",
       "  \"1.0\"\n",
       " 2\n",
       " 2.0"
      ]
     },
     "metadata": {},
     "output_type": "display_data"
    }
   ],
   "source": [
    "b = [\"1.0\",2,2.0]"
   ]
  },
  {
   "cell_type": "markdown",
   "metadata": {},
   "source": [
    "ANy type :( )"
   ]
  },
  {
   "cell_type": "code",
   "execution_count": 148,
   "metadata": {},
   "outputs": [
    {
     "name": "stdout",
     "output_type": "stream",
     "text": [
      "MethodInstance for bad_container(::Vector{Any})\n",
      "  from bad_container(a) in Main at c:\\Users\\olivi\\Documents\\SciMLBook\\own_notebooks\\02_optimising_serial_code.ipynb:1\n",
      "Arguments\n",
      "  #self#\u001b[36m::Core.Const(bad_container)\u001b[39m\n",
      "  a\u001b[36m::Vector{Any}\u001b[39m\n",
      "Body\u001b[91m\u001b[1m::Any\u001b[22m\u001b[39m\n",
      "\u001b[90m1 ─\u001b[39m %1 = Base.getindex(a, 2)\u001b[91m\u001b[1m::Any\u001b[22m\u001b[39m\n",
      "\u001b[90m└──\u001b[39m      return %1\n",
      "\n"
     ]
    }
   ],
   "source": [
    "function bad_container(a)\n",
    "    a[2]\n",
    "  end\n",
    "@code_warntype bad_container(b)"
   ]
  },
  {
   "cell_type": "markdown",
   "metadata": {},
   "source": [
    "So clear that the type inference is broken know, no idea on output of the type...\n",
    "### Type definitions\n",
    "#### Value types and isbits\n",
    "\n",
    "if types can be fully inferred = value type! check with `isbits`"
   ]
  },
  {
   "cell_type": "code",
   "execution_count": 149,
   "metadata": {},
   "outputs": [
    {
     "data": {
      "text/plain": [
       "true"
      ]
     },
     "metadata": {},
     "output_type": "display_data"
    }
   ],
   "source": [
    "isbits(1.0)"
   ]
  },
  {
   "cell_type": "code",
   "execution_count": 150,
   "metadata": {},
   "outputs": [
    {
     "data": {
      "text/plain": [
       "true"
      ]
     },
     "metadata": {},
     "output_type": "display_data"
    }
   ],
   "source": [
    "isbits(1)"
   ]
  },
  {
   "cell_type": "code",
   "execution_count": 151,
   "metadata": {},
   "outputs": [
    {
     "data": {
      "text/plain": [
       "true"
      ]
     },
     "metadata": {},
     "output_type": "display_data"
    }
   ],
   "source": [
    "struct MyComplex\n",
    "    real::Float64\n",
    "    imag::Float64\n",
    "  end\n",
    "  isbits(MyComplex(1.0,1.0))"
   ]
  },
  {
   "cell_type": "code",
   "execution_count": 152,
   "metadata": {},
   "outputs": [
    {
     "data": {
      "text/plain": [
       "true"
      ]
     },
     "metadata": {},
     "output_type": "display_data"
    }
   ],
   "source": [
    "struct MyParameterizedComplex{T}\n",
    "    real::T\n",
    "    imag::T\n",
    "end\n",
    "isbits(MyParameterizedComplex(1.0,1.0))"
   ]
  },
  {
   "cell_type": "markdown",
   "metadata": {},
   "source": [
    "In the way above, you don't have to specify the type!"
   ]
  },
  {
   "cell_type": "code",
   "execution_count": 153,
   "metadata": {},
   "outputs": [
    {
     "data": {
      "text/plain": [
       "Float32"
      ]
     },
     "metadata": {},
     "output_type": "display_data"
    }
   ],
   "source": [
    "typeof(1.0f0)"
   ]
  },
  {
   "cell_type": "code",
   "execution_count": 154,
   "metadata": {},
   "outputs": [
    {
     "data": {
      "text/plain": [
       "false"
      ]
     },
     "metadata": {},
     "output_type": "display_data"
    }
   ],
   "source": [
    "struct MySlowComplex\n",
    "    real\n",
    "    imag\n",
    "end\n",
    "isbits(MySlowComplex(1.0,1.0))"
   ]
  },
  {
   "cell_type": "code",
   "execution_count": 155,
   "metadata": {},
   "outputs": [
    {
     "data": {
      "text/plain": [
       "false"
      ]
     },
     "metadata": {},
     "output_type": "display_data"
    }
   ],
   "source": [
    "struct MySlowComplex2\n",
    "    real::AbstractFloat\n",
    "    imag::AbstractFloat\n",
    "end\n",
    "isbits(MySlowComplex2(1.0,1.0))"
   ]
  },
  {
   "cell_type": "markdown",
   "metadata": {},
   "source": [
    "Note: the number types, even ones such as Int, Float64, and Complex, are all themselves implemented in pure Julia!\n",
    "Note2: isbits compiles down to bit operations from pure Julia, which means that these types can directly compile to GPU kernels through CUDAnative without modification.\n",
    "\n",
    "### Function barriers\n"
   ]
  },
  {
   "cell_type": "code",
   "execution_count": 156,
   "metadata": {},
   "outputs": [
    {
     "name": "stdout",
     "output_type": "stream",
     "text": [
      "  4.400 μs (300 allocations: 4.69 KiB)\n"
     ]
    },
    {
     "data": {
      "text/plain": [
       "604.0"
      ]
     },
     "metadata": {},
     "output_type": "display_data"
    }
   ],
   "source": [
    "x = Number[1.0,3] #slow container type!\n",
    "function r(x)\n",
    "    a = 4\n",
    "    b = 2\n",
    "    for i in 1:100\n",
    "      c = f(x[1],a)\n",
    "      d = f(b,c)\n",
    "      a = f(d,x[2])\n",
    "    end\n",
    "    a\n",
    "  end\n",
    "  @btime r(x)"
   ]
  },
  {
   "cell_type": "code",
   "execution_count": 157,
   "metadata": {},
   "outputs": [
    {
     "name": "stdout",
     "output_type": "stream",
     "text": [
      "  477.041 ns (1 allocation: 16 bytes)\n"
     ]
    },
    {
     "data": {
      "text/plain": [
       "604.0"
      ]
     },
     "metadata": {},
     "output_type": "display_data"
    }
   ],
   "source": [
    "x_fast = [1.0,3.0]\n",
    "@btime r(x_fast)"
   ]
  },
  {
   "cell_type": "markdown",
   "metadata": {},
   "source": [
    "Splitting up the bad container will be faster!"
   ]
  },
  {
   "cell_type": "code",
   "execution_count": 158,
   "metadata": {},
   "outputs": [
    {
     "name": "stdout",
     "output_type": "stream",
     "text": [
      "  279.530 ns (1 allocation: 16 bytes)\n"
     ]
    },
    {
     "data": {
      "text/plain": [
       "604.0"
      ]
     },
     "metadata": {},
     "output_type": "display_data"
    }
   ],
   "source": [
    "function _s(x1,x2)\n",
    "    a = 4\n",
    "    b = 2\n",
    "    for i in 1:100\n",
    "      c = f(x1,a)\n",
    "      d = f(b,c)\n",
    "      a = f(d,x2)\n",
    "    end\n",
    "    a\n",
    "end\n",
    "s(x) = _s(x[1],x[2])\n",
    "@btime s(x)"
   ]
  },
  {
   "cell_type": "code",
   "execution_count": 159,
   "metadata": {},
   "outputs": [
    {
     "data": {
      "text/plain": [
       "false"
      ]
     },
     "metadata": {},
     "output_type": "display_data"
    }
   ],
   "source": [
    "isbits(x)#!! "
   ]
  },
  {
   "cell_type": "code",
   "execution_count": 160,
   "metadata": {},
   "outputs": [
    {
     "name": "stdout",
     "output_type": "stream",
     "text": [
      "MethodInstance for r(::Vector{Number})\n",
      "  from r(x) in Main at c:\\Users\\olivi\\Documents\\SciMLBook\\own_notebooks\\02_optimising_serial_code.ipynb:2\n",
      "Arguments\n",
      "  #self#\u001b[36m::Core.Const(r)\u001b[39m\n",
      "  x\u001b[36m::Vector{Number}\u001b[39m\n",
      "Locals\n",
      "  @_3\u001b[33m\u001b[1m::Union{Nothing, Tuple{Int64, Int64}}\u001b[22m\u001b[39m\n",
      "  b\u001b[36m::Int64\u001b[39m\n",
      "  a\u001b[91m\u001b[1m::Any\u001b[22m\u001b[39m\n",
      "  i\u001b[36m::Int64\u001b[39m\n",
      "  d\u001b[91m\u001b[1m::Any\u001b[22m\u001b[39m\n",
      "  c\u001b[91m\u001b[1m::Any\u001b[22m\u001b[39m\n",
      "Body\u001b[91m\u001b[1m::Any\u001b[22m\u001b[39m\n",
      "\u001b[90m1 ─\u001b[39m       (a = 4)\n",
      "\u001b[90m│  \u001b[39m       (b = 2)\n",
      "\u001b[90m│  \u001b[39m %3  = (1:100)\u001b[36m::Core.Const(1:100)\u001b[39m\n",
      "\u001b[90m│  \u001b[39m       (@_3 = Base.iterate(%3))\n",
      "\u001b[90m│  \u001b[39m %5  = (@_3::Core.Const((1, 1)) === nothing)\u001b[36m::Core.Const(false)\u001b[39m\n",
      "\u001b[90m│  \u001b[39m %6  = Base.not_int(%5)\u001b[36m::Core.Const(true)\u001b[39m\n",
      "\u001b[90m└──\u001b[39m       goto #4 if not %6\n",
      "\u001b[90m2 ┄\u001b[39m %8  = @_3\u001b[36m::Tuple{Int64, Int64}\u001b[39m\n",
      "\u001b[90m│  \u001b[39m       (i = Core.getfield(%8, 1))\n",
      "\u001b[90m│  \u001b[39m %10 = Core.getfield(%8, 2)\u001b[36m::Int64\u001b[39m\n",
      "\u001b[90m│  \u001b[39m %11 = Base.getindex(x, 1)\u001b[91m\u001b[1m::Number\u001b[22m\u001b[39m\n",
      "\u001b[90m│  \u001b[39m       (c = Main.f(%11, a))\n",
      "\u001b[90m│  \u001b[39m       (d = Main.f(b::Core.Const(2), c))\n",
      "\u001b[90m│  \u001b[39m %14 = d\u001b[91m\u001b[1m::Any\u001b[22m\u001b[39m\n",
      "\u001b[90m│  \u001b[39m %15 = Base.getindex(x, 2)\u001b[91m\u001b[1m::Number\u001b[22m\u001b[39m\n",
      "\u001b[90m│  \u001b[39m       (a = Main.f(%14, %15))\n",
      "\u001b[90m│  \u001b[39m       (@_3 = Base.iterate(%3, %10))\n",
      "\u001b[90m│  \u001b[39m %18 = (@_3 === nothing)\u001b[36m::Bool\u001b[39m\n",
      "\u001b[90m│  \u001b[39m %19 = Base.not_int(%18)\u001b[36m::Bool\u001b[39m\n",
      "\u001b[90m└──\u001b[39m       goto #4 if not %19\n",
      "\u001b[90m3 ─\u001b[39m       goto #2\n",
      "\u001b[90m4 ┄\u001b[39m       return a\n",
      "\n"
     ]
    }
   ],
   "source": [
    "@code_warntype r(x)"
   ]
  },
  {
   "cell_type": "markdown",
   "metadata": {},
   "source": [
    "### specialisation at compile time"
   ]
  },
  {
   "cell_type": "code",
   "execution_count": 161,
   "metadata": {},
   "outputs": [
    {
     "data": {
      "text/plain": [
       "fff (generic function with 1 method)"
      ]
     },
     "metadata": {},
     "output_type": "display_data"
    }
   ],
   "source": [
    "function fff(x)\n",
    "    if x isa Int\n",
    "      y = 2\n",
    "    else\n",
    "      y = 4.0\n",
    "    end\n",
    "    x + y\n",
    "  end"
   ]
  },
  {
   "cell_type": "code",
   "execution_count": 162,
   "metadata": {},
   "outputs": [
    {
     "name": "stdout",
     "output_type": "stream",
     "text": [
      "\u001b[90m;  @ c:\\Users\\olivi\\Documents\\SciMLBook\\own_notebooks\\02_optimising_serial_code.ipynb:1 within `fff`\u001b[39m\n",
      "\u001b[90m; Function Attrs: uwtable\u001b[39m\n",
      "\u001b[95mdefine\u001b[39m \u001b[36mi64\u001b[39m \u001b[93m@julia_fff_7479\u001b[39m\u001b[33m(\u001b[39m\u001b[36mi64\u001b[39m \u001b[95msignext\u001b[39m \u001b[0m%0\u001b[33m)\u001b[39m \u001b[0m#0 \u001b[33m{\u001b[39m\n",
      "\u001b[91mtop:\u001b[39m\n",
      "\u001b[90m;  @ c:\\Users\\olivi\\Documents\\SciMLBook\\own_notebooks\\02_optimising_serial_code.ipynb:7 within `fff`\u001b[39m\n",
      "\u001b[90m; ┌ @ int.jl:87 within `+`\u001b[39m\n",
      "   \u001b[0m%1 \u001b[0m= \u001b[96m\u001b[1madd\u001b[22m\u001b[39m \u001b[36mi64\u001b[39m \u001b[0m%0\u001b[0m, \u001b[33m2\u001b[39m\n",
      "\u001b[90m; └\u001b[39m\n",
      "  \u001b[96m\u001b[1mret\u001b[22m\u001b[39m \u001b[36mi64\u001b[39m \u001b[0m%1\n",
      "\u001b[33m}\u001b[39m\n"
     ]
    }
   ],
   "source": [
    "@code_llvm fff(1)"
   ]
  },
  {
   "cell_type": "markdown",
   "metadata": {},
   "source": [
    "So optimised at compile time as it KNOWS the input is an INT!\n",
    "\n",
    "### Global scope and optimisations\n",
    "\n",
    "so e.g. directly in REPL. Here, types cannot be inferred, as you can change the type at any time (by typing a new command)\n",
    "\n",
    "## Overheads of individual operators\n",
    "\n",
    "Each operation has a cost!\n",
    "\n",
    "### Bounds checking\n",
    "= what gives error if you're out of bounds! Removing this maks code faster\n",
    "\n",
    "### SIMD\n",
    "single input multiple data. E.g. adding 4 floats in 1 clock cycle!\n",
    "\n",
    "### FMA\n",
    "fused multiply-add so .e.g x*y+z is fused\n",
    "\n",
    "### Inlining\n",
    "if function call is deemed cheap enough, than combined into single call!"
   ]
  },
  {
   "cell_type": "markdown",
   "metadata": {},
   "source": []
  }
 ],
 "metadata": {
  "kernelspec": {
   "display_name": "Julia 1.8.5",
   "language": "julia",
   "name": "julia-1.8"
  },
  "language_info": {
   "file_extension": ".jl",
   "mimetype": "application/julia",
   "name": "julia",
   "version": "1.8.5"
  }
 },
 "nbformat": 4,
 "nbformat_minor": 2
}
