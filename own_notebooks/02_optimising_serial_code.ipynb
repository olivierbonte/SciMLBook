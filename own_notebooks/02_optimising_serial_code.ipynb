{
 "cells": [
  {
   "cell_type": "markdown",
   "metadata": {},
   "source": [
    "# 02 Optimising Serial Code"
   ]
  },
  {
   "cell_type": "code",
   "execution_count": null,
   "metadata": {},
   "outputs": [],
   "source": [
    "using Pkg\n",
    "Pkg.activate(\"../\") #activate the packes in the .toml files!"
   ]
  },
  {
   "cell_type": "markdown",
   "metadata": {},
   "source": [
    "Julia = a column major languag! statck column after column!"
   ]
  },
  {
   "cell_type": "code",
   "execution_count": null,
   "metadata": {},
   "outputs": [],
   "source": [
    "using BenchmarkTools\n",
    "A = rand(100,100)\n",
    "B = rand(100,100)\n",
    "C = rand(100,100)\n",
    "function inner_rows(C,A,B)\n",
    "    for i in 1:100, j in 1:100\n",
    "        C[i,j] = A[i,j] + B[i,j]\n",
    "    end\n",
    "end\n",
    "@btime inner_rows(C,A,B)"
   ]
  },
  {
   "cell_type": "markdown",
   "metadata": {},
   "source": [
    "So in this code, you go 1 row at a time (so i = 1, j = 1 -> 100, then i = 2...). So this is slower in Julia as it is column major!"
   ]
  },
  {
   "cell_type": "code",
   "execution_count": null,
   "metadata": {},
   "outputs": [],
   "source": [
    "function inner_rows(C,A,B)\n",
    "    for j in 1:100, i in 1:100\n",
    "        C[i,j] = A[i,j] + B[i,j]\n",
    "    end\n",
    "end\n",
    "@btime inner_rows(C,A,B)"
   ]
  },
  {
   "cell_type": "markdown",
   "metadata": {},
   "source": [
    "So faster, as you go 1 column at a time now!"
   ]
  },
  {
   "cell_type": "code",
   "execution_count": null,
   "metadata": {},
   "outputs": [],
   "source": []
  }
 ],
 "metadata": {
  "kernelspec": {
   "display_name": "Julia 1.8.5",
   "language": "julia",
   "name": "julia-1.8"
  },
  "language_info": {
   "file_extension": ".jl",
   "mimetype": "application/julia",
   "name": "julia",
   "version": "1.8.5"
  }
 },
 "nbformat": 4,
 "nbformat_minor": 2
}
