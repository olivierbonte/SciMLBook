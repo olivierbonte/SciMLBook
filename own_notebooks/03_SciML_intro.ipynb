{
 "cells": [
  {
   "cell_type": "markdown",
   "metadata": {},
   "source": [
    "# 03 SciML Intro"
   ]
  },
  {
   "cell_type": "code",
   "execution_count": 1,
   "metadata": {},
   "outputs": [
    {
     "name": "stderr",
     "output_type": "stream",
     "text": [
      "\u001b[32m\u001b[1m  Activating\u001b[22m\u001b[39m project at `c:\\Users\\olivi\\Documents\\SciMLBook`"
     ]
    },
    {
     "name": "stderr",
     "output_type": "stream",
     "text": [
      "\n"
     ]
    }
   ],
   "source": [
    "using Pkg\n",
    "Pkg.activate(\"../\") #activate the packes in the .toml files!"
   ]
  },
  {
   "cell_type": "markdown",
   "metadata": {},
   "source": [
    "Experiment: solving differntial equations with neural networks. Also look at physics-constrained neural networks.\n",
    "\n",
    "## Getting started with ML using Flux"
   ]
  },
  {
   "cell_type": "code",
   "execution_count": 2,
   "metadata": {},
   "outputs": [],
   "source": [
    "using Flux"
   ]
  },
  {
   "cell_type": "markdown",
   "metadata": {},
   "source": [
    "## What is a Neural Network"
   ]
  },
  {
   "cell_type": "markdown",
   "metadata": {},
   "source": [
    "NN(x)=W3σ2(W2σ1(W1x+b1)+b2)+b3\n",
    "Example for R10 to R5"
   ]
  },
  {
   "cell_type": "code",
   "execution_count": 4,
   "metadata": {},
   "outputs": [
    {
     "data": {
      "text/plain": [
       "3-element Vector{Vector{Float64}}:\n",
       " [0.0, 0.0, 0.0, 0.0, 0.0, 0.0, 0.0, 0.0, 0.0, 0.0  …  0.0, 0.0, 0.0, 0.0, 0.0, 0.0, 0.0, 0.0, 0.0, 0.0]\n",
       " [0.0, 0.0, 0.0, 0.0, 0.0, 0.0, 0.0, 0.0, 0.0, 0.0  …  0.0, 0.0, 0.0, 0.0, 0.0, 0.0, 0.0, 0.0, 0.0, 0.0]\n",
       " [0.0, 0.0, 0.0, 0.0, 0.0]"
      ]
     },
     "metadata": {},
     "output_type": "display_data"
    }
   ],
   "source": [
    "W = [randn(32,10),randn(32,32),randn(5,32)]\n",
    "b = [zeros(32),zeros(32),zeros(5)]\n"
   ]
  },
  {
   "cell_type": "code",
   "execution_count": 6,
   "metadata": {},
   "outputs": [
    {
     "data": {
      "text/plain": [
       "5-element Vector{Float64}:\n",
       " -2.004917870508095\n",
       " -2.611374672901566\n",
       " -2.429038844678645\n",
       " -8.084016728665889\n",
       "  6.917759494018085"
      ]
     },
     "metadata": {},
     "output_type": "display_data"
    }
   ],
   "source": [
    "simpleNN(x) = W[3]*tanh.(W[2]*tanh.(W[1]*x + b[1])+b[2])+b[3]\n",
    "simpleNN(rand(10))"
   ]
  },
  {
   "cell_type": "markdown",
   "metadata": {},
   "source": [
    "tanh used as activation layer!\n",
    "\n",
    "### Defining Neural Networks with Flux.jl\n",
    "Flux = on top of language-wide automatic differentiation!! -> Differentiable programming paradigm\n",
    "https://fluxml.ai/\n"
   ]
  },
  {
   "cell_type": "code",
   "execution_count": 7,
   "metadata": {},
   "outputs": [
    {
     "data": {
      "text/plain": [
       "Chain(\n",
       "  Dense(10 => 32, tanh),                \u001b[90m# 352 parameters\u001b[39m\n",
       "  Dense(32 => 32, tanh),                \u001b[90m# 1_056 parameters\u001b[39m\n",
       "  Dense(32 => 5),                       \u001b[90m# 165 parameters\u001b[39m\n",
       ") \u001b[90m                  # Total: 6 arrays, \u001b[39m1_573 parameters, 6.520 KiB."
      ]
     },
     "metadata": {},
     "output_type": "display_data"
    }
   ],
   "source": [
    "using Flux\n",
    "NN2 = Chain(Dense(10 => 32, tanh),\n",
    "            Dense(32 => 32, tanh),\n",
    "            Dense(32 => 5))"
   ]
  },
  {
   "cell_type": "code",
   "execution_count": 8,
   "metadata": {},
   "outputs": [
    {
     "data": {
      "text/plain": [
       "5-element Vector{Float64}:\n",
       "  0.2262699139392644\n",
       " -0.9100160449399555\n",
       "  0.1656047880802981\n",
       " -0.4958770996141305\n",
       "  0.09852526830601774"
      ]
     },
     "metadata": {},
     "output_type": "display_data"
    }
   ],
   "source": [
    "NN2(rand(10))"
   ]
  },
  {
   "cell_type": "markdown",
   "metadata": {},
   "source": [
    "Any anonymous function can be used as activation function!"
   ]
  },
  {
   "cell_type": "code",
   "execution_count": 9,
   "metadata": {},
   "outputs": [
    {
     "data": {
      "text/plain": [
       "5-element Vector{Float64}:\n",
       "  0.22135590836578306\n",
       "  0.09583890629781955\n",
       " -0.6848427144030843\n",
       " -0.16245093028381108\n",
       " -0.03197636765839136"
      ]
     },
     "metadata": {},
     "output_type": "display_data"
    }
   ],
   "source": [
    "NN3 = Chain(Dense(10 => 32,x->x^2),\n",
    "            Dense(32 => 32,x->max(0,x)),\n",
    "            Dense(32 => 5))\n",
    "NN3(rand(10))"
   ]
  },
  {
   "cell_type": "markdown",
   "metadata": {},
   "source": [
    "`x->max(0,x)` = RELU. Disadvantage = discontinuous! so maybe not the best for sciml..."
   ]
  },
  {
   "cell_type": "code",
   "execution_count": null,
   "metadata": {},
   "outputs": [],
   "source": []
  }
 ],
 "metadata": {
  "kernelspec": {
   "display_name": "Julia 1.8.5",
   "language": "julia",
   "name": "julia-1.8"
  },
  "language_info": {
   "file_extension": ".jl",
   "mimetype": "application/julia",
   "name": "julia",
   "version": "1.8.5"
  }
 },
 "nbformat": 4,
 "nbformat_minor": 2
}
